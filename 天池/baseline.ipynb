{
 "cells": [
  {
   "cell_type": "code",
   "execution_count": 1,
   "metadata": {
    "ExecuteTime": {
     "end_time": "2020-01-20T14:16:37.907792Z",
     "start_time": "2020-01-20T14:16:36.802786Z"
    }
   },
   "outputs": [],
   "source": [
    "import pandas as pd\n",
    "from matplotlib import pyplot as plt\n",
    "import numpy as np\n",
    "import seaborn as sns\n",
    "import os\n",
    "import lightgbm as lgb\n",
    "import gc\n",
    "import time\n",
    "import datetime\n",
    "from tqdm import tqdm_notebook as tqdm\n",
    "import matplotlib.pylab as mpl \n",
    "from sklearn.model_selection import KFold\n",
    "from sklearn.model_selection import StratifiedKFold as skfold\n",
    "from sklearn.metrics import f1_score, accuracy_score\n",
    "import math\n",
    "\n",
    "pd.set_option('display.float_format', lambda x: '%.3f' % x)\n",
    "#设置汉字格式\n",
    "# sans-serif就是无衬线字体，是一种通用字体族。\n",
    "# 常见的无衬线字体有 Trebuchet MS, Tahoma, Verdana, Arial, Helvetica,SimHei 中文的幼圆、隶书等等\n",
    "mpl.rcParams['font.sans-serif'] = ['FangSong']  # 指定默认字体\n",
    "%matplotlib inline"
   ]
  },
  {
   "cell_type": "code",
   "execution_count": 2,
   "metadata": {
    "ExecuteTime": {
     "end_time": "2020-01-20T14:16:38.500331Z",
     "start_time": "2020-01-20T14:16:38.494326Z"
    }
   },
   "outputs": [],
   "source": [
    "# 批量处理文件\n",
    "train_path = './hy_round1_train_20200102/'\n",
    "dirs = os.listdir(train_path)"
   ]
  },
  {
   "cell_type": "code",
   "execution_count": 16,
   "metadata": {
    "ExecuteTime": {
     "end_time": "2020-01-20T14:42:27.312127Z",
     "start_time": "2020-01-20T14:42:14.391698Z"
    }
   },
   "outputs": [],
   "source": [
    "data_list = []\n",
    "for f in dirs:\n",
    "    data_list.append(pd.read_csv(os.path.join(train_path,f)))"
   ]
  },
  {
   "cell_type": "code",
   "execution_count": 17,
   "metadata": {
    "ExecuteTime": {
     "end_time": "2020-01-20T14:44:12.286135Z",
     "start_time": "2020-01-20T14:44:10.099144Z"
    }
   },
   "outputs": [],
   "source": [
    "df = pd.concat(data_list, axis=0, ignore_index=True)"
   ]
  },
  {
   "cell_type": "code",
   "execution_count": 6,
   "metadata": {
    "ExecuteTime": {
     "end_time": "2020-01-20T14:23:25.976959Z",
     "start_time": "2020-01-20T14:23:25.968950Z"
    }
   },
   "outputs": [
    {
     "data": {
      "text/html": [
       "<div>\n",
       "<style scoped>\n",
       "    .dataframe tbody tr th:only-of-type {\n",
       "        vertical-align: middle;\n",
       "    }\n",
       "\n",
       "    .dataframe tbody tr th {\n",
       "        vertical-align: top;\n",
       "    }\n",
       "\n",
       "    .dataframe thead th {\n",
       "        text-align: right;\n",
       "    }\n",
       "</style>\n",
       "<table border=\"1\" class=\"dataframe\">\n",
       "  <thead>\n",
       "    <tr style=\"text-align: right;\">\n",
       "      <th></th>\n",
       "      <th>渔船ID</th>\n",
       "      <th>x</th>\n",
       "      <th>y</th>\n",
       "      <th>速度</th>\n",
       "      <th>方向</th>\n",
       "      <th>time</th>\n",
       "      <th>type</th>\n",
       "    </tr>\n",
       "  </thead>\n",
       "  <tbody>\n",
       "    <tr>\n",
       "      <th>0</th>\n",
       "      <td>0</td>\n",
       "      <td>6152038.425</td>\n",
       "      <td>5124873.383</td>\n",
       "      <td>2.590</td>\n",
       "      <td>102</td>\n",
       "      <td>1110 11:58:19</td>\n",
       "      <td>拖网</td>\n",
       "    </tr>\n",
       "    <tr>\n",
       "      <th>1</th>\n",
       "      <td>0</td>\n",
       "      <td>6151229.510</td>\n",
       "      <td>5125218.015</td>\n",
       "      <td>2.700</td>\n",
       "      <td>113</td>\n",
       "      <td>1110 11:48:19</td>\n",
       "      <td>拖网</td>\n",
       "    </tr>\n",
       "    <tr>\n",
       "      <th>2</th>\n",
       "      <td>0</td>\n",
       "      <td>6150420.638</td>\n",
       "      <td>5125562.715</td>\n",
       "      <td>2.700</td>\n",
       "      <td>116</td>\n",
       "      <td>1110 11:38:19</td>\n",
       "      <td>拖网</td>\n",
       "    </tr>\n",
       "    <tr>\n",
       "      <th>3</th>\n",
       "      <td>0</td>\n",
       "      <td>6149611.808</td>\n",
       "      <td>5125907.483</td>\n",
       "      <td>3.290</td>\n",
       "      <td>95</td>\n",
       "      <td>1110 11:28:19</td>\n",
       "      <td>拖网</td>\n",
       "    </tr>\n",
       "    <tr>\n",
       "      <th>4</th>\n",
       "      <td>0</td>\n",
       "      <td>6148803.020</td>\n",
       "      <td>5126252.318</td>\n",
       "      <td>3.180</td>\n",
       "      <td>108</td>\n",
       "      <td>1110 11:18:19</td>\n",
       "      <td>拖网</td>\n",
       "    </tr>\n",
       "  </tbody>\n",
       "</table>\n",
       "</div>"
      ],
      "text/plain": [
       "   渔船ID           x           y    速度   方向           time type\n",
       "0     0 6152038.425 5124873.383 2.590  102  1110 11:58:19   拖网\n",
       "1     0 6151229.510 5125218.015 2.700  113  1110 11:48:19   拖网\n",
       "2     0 6150420.638 5125562.715 2.700  116  1110 11:38:19   拖网\n",
       "3     0 6149611.808 5125907.483 3.290   95  1110 11:28:19   拖网\n",
       "4     0 6148803.020 5126252.318 3.180  108  1110 11:18:19   拖网"
      ]
     },
     "execution_count": 6,
     "metadata": {},
     "output_type": "execute_result"
    }
   ],
   "source": [
    "df.head()"
   ]
  },
  {
   "cell_type": "code",
   "execution_count": 6,
   "metadata": {
    "ExecuteTime": {
     "end_time": "2020-01-20T06:08:43.885600Z",
     "start_time": "2020-01-20T06:08:43.804815Z"
    }
   },
   "outputs": [
    {
     "data": {
      "text/plain": [
       "array(['拖网', '围网', '刺网'], dtype=object)"
      ]
     },
     "execution_count": 6,
     "metadata": {},
     "output_type": "execute_result"
    }
   ],
   "source": [
    "df['type'].unique()"
   ]
  },
  {
   "cell_type": "code",
   "execution_count": 7,
   "metadata": {
    "ExecuteTime": {
     "end_time": "2020-01-20T06:08:45.707688Z",
     "start_time": "2020-01-20T06:08:45.428263Z"
    }
   },
   "outputs": [],
   "source": [
    "tmp = df[['速度','type']].groupby(by='type', as_index=False)['速度'].agg({'speed_avg':lambda x: np.mean(x),\n",
    "                                                                     'speed_min':min ,\n",
    "                                                                     'speed_max':max,\n",
    "                                                                     'speed_median':np.median})"
   ]
  },
  {
   "cell_type": "code",
   "execution_count": 8,
   "metadata": {
    "ExecuteTime": {
     "end_time": "2020-01-20T06:08:47.282716Z",
     "start_time": "2020-01-20T06:08:47.276734Z"
    }
   },
   "outputs": [
    {
     "data": {
      "text/html": [
       "<div>\n",
       "<style scoped>\n",
       "    .dataframe tbody tr th:only-of-type {\n",
       "        vertical-align: middle;\n",
       "    }\n",
       "\n",
       "    .dataframe tbody tr th {\n",
       "        vertical-align: top;\n",
       "    }\n",
       "\n",
       "    .dataframe thead th {\n",
       "        text-align: right;\n",
       "    }\n",
       "</style>\n",
       "<table border=\"1\" class=\"dataframe\">\n",
       "  <thead>\n",
       "    <tr style=\"text-align: right;\">\n",
       "      <th></th>\n",
       "      <th>type</th>\n",
       "      <th>speed_avg</th>\n",
       "      <th>speed_min</th>\n",
       "      <th>speed_max</th>\n",
       "      <th>speed_median</th>\n",
       "    </tr>\n",
       "  </thead>\n",
       "  <tbody>\n",
       "    <tr>\n",
       "      <th>0</th>\n",
       "      <td>刺网</td>\n",
       "      <td>0.689</td>\n",
       "      <td>0.000</td>\n",
       "      <td>70.640</td>\n",
       "      <td>0.220</td>\n",
       "    </tr>\n",
       "    <tr>\n",
       "      <th>1</th>\n",
       "      <td>围网</td>\n",
       "      <td>1.824</td>\n",
       "      <td>0.000</td>\n",
       "      <td>93.150</td>\n",
       "      <td>0.320</td>\n",
       "    </tr>\n",
       "    <tr>\n",
       "      <th>2</th>\n",
       "      <td>拖网</td>\n",
       "      <td>2.025</td>\n",
       "      <td>0.000</td>\n",
       "      <td>100.160</td>\n",
       "      <td>0.320</td>\n",
       "    </tr>\n",
       "  </tbody>\n",
       "</table>\n",
       "</div>"
      ],
      "text/plain": [
       "  type  speed_avg  speed_min  speed_max  speed_median\n",
       "0   刺网      0.689      0.000     70.640         0.220\n",
       "1   围网      1.824      0.000     93.150         0.320\n",
       "2   拖网      2.025      0.000    100.160         0.320"
      ]
     },
     "execution_count": 8,
     "metadata": {},
     "output_type": "execute_result"
    }
   ],
   "source": [
    "tmp"
   ]
  },
  {
   "cell_type": "code",
   "execution_count": 9,
   "metadata": {
    "ExecuteTime": {
     "end_time": "2020-01-20T06:09:33.931517Z",
     "start_time": "2020-01-20T06:08:51.916055Z"
    }
   },
   "outputs": [
    {
     "data": {
      "image/png": "[encoded data removed]",
      "text/plain": [
       "<Figure size 1152x864 with 4 Axes>"
      ]
     },
     "metadata": {
      "needs_background": "light"
     },
     "output_type": "display_data"
    }
   ],
   "source": [
    "fig = plt.figure(figsize=(16,12))\n",
    "plt.subplot(221)\n",
    "plt.scatter(df[df['type'] == '拖网']['x'], df[df['type'] == '拖网']['y'], c='r')\n",
    "plt.scatter(df[df['type'] == '围网']['x'], df[df['type'] == '围网']['y'], c='b')\n",
    "plt.scatter(df[df['type'] == '刺网']['x'], df[df['type'] == '刺网']['y'], c='g')\n",
    "plt.subplot(222)\n",
    "plt.title('拖网')\n",
    "plt.scatter(df[df['type'] == '拖网']['x'], df[df['type'] == '拖网']['y'], c='r')\n",
    "plt.subplot(223)\n",
    "plt.title('围网')\n",
    "plt.scatter(df[df['type'] == '围网']['x'], df[df['type'] == '围网']['y'], c='b')\n",
    "plt.subplot(224)\n",
    "plt.title('刺网')\n",
    "plt.scatter(df[df['type'] == '刺网']['x'], df[df['type'] == '刺网']['y'], c='g')\n",
    "plt.xlabel('longitude')\n",
    "plt.ylabel('latitude')\n",
    "plt.show()"
   ]
  },
  {
   "cell_type": "code",
   "execution_count": 10,
   "metadata": {
    "ExecuteTime": {
     "end_time": "2020-01-20T06:09:41.106880Z",
     "start_time": "2020-01-20T06:09:40.588248Z"
    }
   },
   "outputs": [
    {
     "data": {
      "image/png": "[encoded data removed]",
      "text/plain": [
       "<Figure size 1152x864 with 4 Axes>"
      ]
     },
     "metadata": {
      "needs_background": "light"
     },
     "output_type": "display_data"
    }
   ],
   "source": [
    "fig = plt.figure(figsize=(16,12))\n",
    "plt.subplot(221)\n",
    "plt.scatter(df[df['渔船ID'] == 990]['x'], df[df['渔船ID'] == 990]['y'], c='r')\n",
    "plt.scatter(df[df['渔船ID'] == 1000]['x'], df[df['渔船ID'] == 1000]['y'], c='g')\n",
    "plt.scatter(df[df['渔船ID'] == 997]['x'], df[df['渔船ID'] == 997]['y'], c='b')\n",
    "plt.subplot(222)\n",
    "plt.title('拖网')\n",
    "plt.plot(df[df['渔船ID'] == 999]['x'], df[df['渔船ID'] == 999]['y'], c='r')\n",
    "plt.subplot(223)\n",
    "plt.title('围网')\n",
    "plt.plot(df[df['渔船ID'] == 990]['x'], df[df['渔船ID'] == 990]['y'], c='g')\n",
    "plt.subplot(224)\n",
    "plt.title('刺网')\n",
    "plt.plot(df[df['渔船ID'] == 997]['x'], df[df['渔船ID'] == 997]['y'], c='b')\n",
    "plt.xlabel('longitude')\n",
    "plt.ylabel('latitude')\n",
    "plt.show()"
   ]
  },
  {
   "cell_type": "raw",
   "metadata": {},
   "source": [
    "拖网捕捞虾、蟹、底层和中层水域鱼类。\n",
    "围网捕捞海水顶层鱼群。\n",
    "刺网主要捕获分散或集中于各水层的鱼类，其特点是对鱼体大小的选择性强，有利于保护资源。"
   ]
  },
  {
   "cell_type": "code",
   "execution_count": 11,
   "metadata": {
    "ExecuteTime": {
     "end_time": "2020-01-20T06:09:51.804265Z",
     "start_time": "2020-01-20T06:09:51.581854Z"
    }
   },
   "outputs": [
    {
     "data": {
      "text/html": [
       "<div>\n",
       "<style scoped>\n",
       "    .dataframe tbody tr th:only-of-type {\n",
       "        vertical-align: middle;\n",
       "    }\n",
       "\n",
       "    .dataframe tbody tr th {\n",
       "        vertical-align: top;\n",
       "    }\n",
       "\n",
       "    .dataframe thead th {\n",
       "        text-align: right;\n",
       "    }\n",
       "</style>\n",
       "<table border=\"1\" class=\"dataframe\">\n",
       "  <thead>\n",
       "    <tr style=\"text-align: right;\">\n",
       "      <th></th>\n",
       "      <th>type</th>\n",
       "      <th>direction_avg</th>\n",
       "      <th>direction_max</th>\n",
       "      <th>direction_min</th>\n",
       "      <th>direction_median</th>\n",
       "    </tr>\n",
       "  </thead>\n",
       "  <tbody>\n",
       "    <tr>\n",
       "      <th>0</th>\n",
       "      <td>刺网</td>\n",
       "      <td>105.233</td>\n",
       "      <td>360</td>\n",
       "      <td>0</td>\n",
       "      <td>61</td>\n",
       "    </tr>\n",
       "    <tr>\n",
       "      <th>1</th>\n",
       "      <td>围网</td>\n",
       "      <td>124.027</td>\n",
       "      <td>360</td>\n",
       "      <td>0</td>\n",
       "      <td>101</td>\n",
       "    </tr>\n",
       "    <tr>\n",
       "      <th>2</th>\n",
       "      <td>拖网</td>\n",
       "      <td>114.158</td>\n",
       "      <td>360</td>\n",
       "      <td>0</td>\n",
       "      <td>81</td>\n",
       "    </tr>\n",
       "  </tbody>\n",
       "</table>\n",
       "</div>"
      ],
      "text/plain": [
       "  type  direction_avg  direction_max  direction_min  direction_median\n",
       "0   刺网        105.233            360              0                61\n",
       "1   围网        124.027            360              0               101\n",
       "2   拖网        114.158            360              0                81"
      ]
     },
     "execution_count": 11,
     "metadata": {},
     "output_type": "execute_result"
    }
   ],
   "source": [
    "# 统计每种数据与方向的关系\n",
    "tmp = df[['方向','type']].groupby(by='type',as_index=False)['方向'].agg({'direction_avg':np.mean, \n",
    "                                                                   'direction_max':max, \n",
    "                                                                   'direction_min':min,\n",
    "                                                                  'direction_median':np.median})\n",
    "tmp"
   ]
  },
  {
   "cell_type": "code",
   "execution_count": 12,
   "metadata": {
    "ExecuteTime": {
     "end_time": "2020-01-20T06:10:02.972377Z",
     "start_time": "2020-01-20T06:10:01.908555Z"
    }
   },
   "outputs": [],
   "source": [
    "tmp1 = df[df['type'] == '拖网'].groupby(by=['渔船ID', 'type'], as_index=False)['type'].agg({'type_count': lambda x: x.count()})\n",
    "tmp2 = df[df['type'] == '围网'].groupby(by=['渔船ID', 'type'], as_index=False)['type'].agg({'type_count': lambda x: x.count()})\n",
    "tmp3 = df[df['type'] == '刺网'].groupby(by=['渔船ID', 'type'], as_index=False)['type'].agg({'type_count': lambda x: x.count()})"
   ]
  },
  {
   "cell_type": "code",
   "execution_count": 13,
   "metadata": {
    "ExecuteTime": {
     "end_time": "2020-01-20T06:10:03.561954Z",
     "start_time": "2020-01-20T06:10:03.555970Z"
    }
   },
   "outputs": [],
   "source": [
    "tmp1 = tmp1.rename(columns={'type_count':'拖网次数'})\n",
    "tmp2 = tmp2.rename(columns={'type_count':'围网次数'})\n",
    "tmp3 = tmp3.rename(columns={'type_count':'刺网次数'})"
   ]
  },
  {
   "cell_type": "code",
   "execution_count": 14,
   "metadata": {
    "ExecuteTime": {
     "end_time": "2020-01-20T06:10:04.670888Z",
     "start_time": "2020-01-20T06:10:04.491266Z"
    }
   },
   "outputs": [],
   "source": [
    "unique_df = df[['渔船ID','type']].drop_duplicates().reset_index(drop=True)"
   ]
  },
  {
   "cell_type": "code",
   "execution_count": 15,
   "metadata": {
    "ExecuteTime": {
     "end_time": "2020-01-20T06:10:05.188572Z",
     "start_time": "2020-01-20T06:10:05.179592Z"
    }
   },
   "outputs": [],
   "source": [
    "unique_df = unique_df.merge(tmp1, on=['渔船ID','type'], how='left')"
   ]
  },
  {
   "cell_type": "code",
   "execution_count": 16,
   "metadata": {
    "ExecuteTime": {
     "end_time": "2020-01-20T06:10:07.793553Z",
     "start_time": "2020-01-20T06:10:07.780556Z"
    }
   },
   "outputs": [],
   "source": [
    "unique_df = unique_df.merge(tmp2, on=['渔船ID','type'], how='left')\n",
    "unique_df = unique_df.merge(tmp3, on=['渔船ID','type'], how='left')"
   ]
  },
  {
   "cell_type": "code",
   "execution_count": 17,
   "metadata": {
    "ExecuteTime": {
     "end_time": "2020-01-20T06:10:08.824701Z",
     "start_time": "2020-01-20T06:10:08.819715Z"
    }
   },
   "outputs": [],
   "source": [
    "unique_df = unique_df.fillna(0)"
   ]
  },
  {
   "cell_type": "code",
   "execution_count": 18,
   "metadata": {
    "ExecuteTime": {
     "end_time": "2020-01-20T06:10:09.853199Z",
     "start_time": "2020-01-20T06:10:09.845215Z"
    }
   },
   "outputs": [],
   "source": [
    "unique_df1 = unique_df.groupby(by='渔船ID', as_index=False).agg({'拖网次数':sum, '围网次数':sum, '刺网次数':sum})"
   ]
  },
  {
   "cell_type": "code",
   "execution_count": 22,
   "metadata": {
    "ExecuteTime": {
     "end_time": "2020-01-20T06:10:33.611296Z",
     "start_time": "2020-01-20T06:10:33.604299Z"
    }
   },
   "outputs": [
    {
     "data": {
      "text/html": [
       "<div>\n",
       "<style scoped>\n",
       "    .dataframe tbody tr th:only-of-type {\n",
       "        vertical-align: middle;\n",
       "    }\n",
       "\n",
       "    .dataframe tbody tr th {\n",
       "        vertical-align: top;\n",
       "    }\n",
       "\n",
       "    .dataframe thead th {\n",
       "        text-align: right;\n",
       "    }\n",
       "</style>\n",
       "<table border=\"1\" class=\"dataframe\">\n",
       "  <thead>\n",
       "    <tr style=\"text-align: right;\">\n",
       "      <th></th>\n",
       "      <th>渔船ID</th>\n",
       "      <th>type</th>\n",
       "      <th>拖网次数</th>\n",
       "      <th>围网次数</th>\n",
       "      <th>刺网次数</th>\n",
       "    </tr>\n",
       "  </thead>\n",
       "  <tbody>\n",
       "    <tr>\n",
       "      <th>0</th>\n",
       "      <td>0</td>\n",
       "      <td>拖网</td>\n",
       "      <td>414.000</td>\n",
       "      <td>0.000</td>\n",
       "      <td>0.000</td>\n",
       "    </tr>\n",
       "    <tr>\n",
       "      <th>1</th>\n",
       "      <td>1</td>\n",
       "      <td>拖网</td>\n",
       "      <td>385.000</td>\n",
       "      <td>0.000</td>\n",
       "      <td>0.000</td>\n",
       "    </tr>\n",
       "    <tr>\n",
       "      <th>2</th>\n",
       "      <td>10</td>\n",
       "      <td>拖网</td>\n",
       "      <td>397.000</td>\n",
       "      <td>0.000</td>\n",
       "      <td>0.000</td>\n",
       "    </tr>\n",
       "    <tr>\n",
       "      <th>3</th>\n",
       "      <td>100</td>\n",
       "      <td>拖网</td>\n",
       "      <td>411.000</td>\n",
       "      <td>0.000</td>\n",
       "      <td>0.000</td>\n",
       "    </tr>\n",
       "    <tr>\n",
       "      <th>4</th>\n",
       "      <td>1000</td>\n",
       "      <td>围网</td>\n",
       "      <td>0.000</td>\n",
       "      <td>377.000</td>\n",
       "      <td>0.000</td>\n",
       "    </tr>\n",
       "  </tbody>\n",
       "</table>\n",
       "</div>"
      ],
      "text/plain": [
       "   渔船ID type    拖网次数    围网次数  刺网次数\n",
       "0     0   拖网 414.000   0.000 0.000\n",
       "1     1   拖网 385.000   0.000 0.000\n",
       "2    10   拖网 397.000   0.000 0.000\n",
       "3   100   拖网 411.000   0.000 0.000\n",
       "4  1000   围网   0.000 377.000 0.000"
      ]
     },
     "execution_count": 22,
     "metadata": {},
     "output_type": "execute_result"
    }
   ],
   "source": [
    "unique_df.head()"
   ]
  },
  {
   "cell_type": "code",
   "execution_count": 10,
   "metadata": {
    "ExecuteTime": {
     "end_time": "2020-01-20T14:29:53.295772Z",
     "start_time": "2020-01-20T14:29:53.170658Z"
    }
   },
   "outputs": [],
   "source": [
    "# 处理time\n",
    "tmp_time = df.copy()"
   ]
  },
  {
   "cell_type": "code",
   "execution_count": 11,
   "metadata": {
    "ExecuteTime": {
     "end_time": "2020-01-20T14:32:29.214023Z",
     "start_time": "2020-01-20T14:29:55.103688Z"
    }
   },
   "outputs": [],
   "source": [
    "tmp_time['month'] = tmp_time['time'].apply(lambda x: time.strptime(x, '%m%d %H:%M:%S').tm_mon)\n",
    "tmp_time['day'] = tmp_time['time'].apply(lambda x: time.strptime(x, '%m%d %H:%M:%S').tm_mday)\n",
    "tmp_time['hour'] = tmp_time['time'].apply(lambda x: time.strptime(x, '%m%d %H:%M:%S').tm_hour)\n",
    "tmp_time['minute'] = tmp_time['time'].apply(lambda x: time.strptime(x, '%m%d %H:%M:%S').tm_min)\n",
    "tmp_time['second'] = tmp_time['time'].apply(lambda x: time.strptime(x, '%m%d %H:%M:%S').tm_sec)"
   ]
  },
  {
   "cell_type": "code",
   "execution_count": 26,
   "metadata": {
    "ExecuteTime": {
     "end_time": "2020-01-20T06:14:07.327488Z",
     "start_time": "2020-01-20T06:14:07.324496Z"
    }
   },
   "outputs": [],
   "source": [
    "cols = ['x', 'y', '方向', '速度']"
   ]
  },
  {
   "cell_type": "code",
   "execution_count": 27,
   "metadata": {
    "ExecuteTime": {
     "end_time": "2020-01-20T06:14:08.552317Z",
     "start_time": "2020-01-20T06:14:08.163347Z"
    }
   },
   "outputs": [],
   "source": [
    "tmp_time[['x_shift', 'y_shift', '方向_shift','速度_shift']] = tmp_time.groupby(by=['渔船ID', 'day'], as_index=False)['x','y', '方向', '速度'].shift(periods=-1)"
   ]
  },
  {
   "cell_type": "code",
   "execution_count": 69,
   "metadata": {
    "ExecuteTime": {
     "end_time": "2020-01-20T06:39:35.971840Z",
     "start_time": "2020-01-20T06:39:35.948930Z"
    }
   },
   "outputs": [
    {
     "data": {
      "text/html": [
       "<div>\n",
       "<style scoped>\n",
       "    .dataframe tbody tr th:only-of-type {\n",
       "        vertical-align: middle;\n",
       "    }\n",
       "\n",
       "    .dataframe tbody tr th {\n",
       "        vertical-align: top;\n",
       "    }\n",
       "\n",
       "    .dataframe thead th {\n",
       "        text-align: right;\n",
       "    }\n",
       "</style>\n",
       "<table border=\"1\" class=\"dataframe\">\n",
       "  <thead>\n",
       "    <tr style=\"text-align: right;\">\n",
       "      <th></th>\n",
       "      <th>渔船ID</th>\n",
       "      <th>x</th>\n",
       "      <th>y</th>\n",
       "      <th>速度</th>\n",
       "      <th>方向</th>\n",
       "      <th>time</th>\n",
       "      <th>type</th>\n",
       "      <th>month</th>\n",
       "      <th>day</th>\n",
       "      <th>hour</th>\n",
       "      <th>minute</th>\n",
       "      <th>second</th>\n",
       "      <th>x_shift</th>\n",
       "      <th>y_shift</th>\n",
       "      <th>方向_shift</th>\n",
       "      <th>速度_shift</th>\n",
       "    </tr>\n",
       "  </thead>\n",
       "  <tbody>\n",
       "    <tr>\n",
       "      <th>1984</th>\n",
       "      <td>1001</td>\n",
       "      <td>6246424.331</td>\n",
       "      <td>5241152.582</td>\n",
       "      <td>0.320</td>\n",
       "      <td>279</td>\n",
       "      <td>1117 11:53:50</td>\n",
       "      <td>拖网</td>\n",
       "      <td>11</td>\n",
       "      <td>17</td>\n",
       "      <td>11</td>\n",
       "      <td>53</td>\n",
       "      <td>50</td>\n",
       "      <td>6246424.331</td>\n",
       "      <td>5241152.582</td>\n",
       "      <td>144.000</td>\n",
       "      <td>0.320</td>\n",
       "    </tr>\n",
       "    <tr>\n",
       "      <th>1985</th>\n",
       "      <td>1001</td>\n",
       "      <td>6246424.331</td>\n",
       "      <td>5241152.582</td>\n",
       "      <td>0.320</td>\n",
       "      <td>144</td>\n",
       "      <td>1117 11:43:48</td>\n",
       "      <td>拖网</td>\n",
       "      <td>11</td>\n",
       "      <td>17</td>\n",
       "      <td>11</td>\n",
       "      <td>43</td>\n",
       "      <td>48</td>\n",
       "      <td>6246424.331</td>\n",
       "      <td>5241152.582</td>\n",
       "      <td>0.000</td>\n",
       "      <td>0.110</td>\n",
       "    </tr>\n",
       "    <tr>\n",
       "      <th>1986</th>\n",
       "      <td>1001</td>\n",
       "      <td>6246424.331</td>\n",
       "      <td>5241152.582</td>\n",
       "      <td>0.110</td>\n",
       "      <td>0</td>\n",
       "      <td>1117 11:33:49</td>\n",
       "      <td>拖网</td>\n",
       "      <td>11</td>\n",
       "      <td>17</td>\n",
       "      <td>11</td>\n",
       "      <td>33</td>\n",
       "      <td>49</td>\n",
       "      <td>6246323.396</td>\n",
       "      <td>5241153.829</td>\n",
       "      <td>275.000</td>\n",
       "      <td>0.000</td>\n",
       "    </tr>\n",
       "    <tr>\n",
       "      <th>1987</th>\n",
       "      <td>1001</td>\n",
       "      <td>6246323.396</td>\n",
       "      <td>5241153.829</td>\n",
       "      <td>0.000</td>\n",
       "      <td>275</td>\n",
       "      <td>1117 11:23:46</td>\n",
       "      <td>拖网</td>\n",
       "      <td>11</td>\n",
       "      <td>17</td>\n",
       "      <td>11</td>\n",
       "      <td>23</td>\n",
       "      <td>46</td>\n",
       "      <td>6246323.396</td>\n",
       "      <td>5241153.829</td>\n",
       "      <td>0.000</td>\n",
       "      <td>0.000</td>\n",
       "    </tr>\n",
       "    <tr>\n",
       "      <th>1988</th>\n",
       "      <td>1001</td>\n",
       "      <td>6246323.396</td>\n",
       "      <td>5241153.829</td>\n",
       "      <td>0.000</td>\n",
       "      <td>0</td>\n",
       "      <td>1117 11:13:50</td>\n",
       "      <td>拖网</td>\n",
       "      <td>11</td>\n",
       "      <td>17</td>\n",
       "      <td>11</td>\n",
       "      <td>13</td>\n",
       "      <td>50</td>\n",
       "      <td>6246423.327</td>\n",
       "      <td>5241043.158</td>\n",
       "      <td>162.000</td>\n",
       "      <td>0.320</td>\n",
       "    </tr>\n",
       "    <tr>\n",
       "      <th>...</th>\n",
       "      <td>...</td>\n",
       "      <td>...</td>\n",
       "      <td>...</td>\n",
       "      <td>...</td>\n",
       "      <td>...</td>\n",
       "      <td>...</td>\n",
       "      <td>...</td>\n",
       "      <td>...</td>\n",
       "      <td>...</td>\n",
       "      <td>...</td>\n",
       "      <td>...</td>\n",
       "      <td>...</td>\n",
       "      <td>...</td>\n",
       "      <td>...</td>\n",
       "      <td>...</td>\n",
       "      <td>...</td>\n",
       "    </tr>\n",
       "    <tr>\n",
       "      <th>2397</th>\n",
       "      <td>1001</td>\n",
       "      <td>6274752.740</td>\n",
       "      <td>5235808.806</td>\n",
       "      <td>2.700</td>\n",
       "      <td>10</td>\n",
       "      <td>1114 12:56:55</td>\n",
       "      <td>拖网</td>\n",
       "      <td>11</td>\n",
       "      <td>14</td>\n",
       "      <td>12</td>\n",
       "      <td>56</td>\n",
       "      <td>55</td>\n",
       "      <td>6274141.402</td>\n",
       "      <td>5235048.741</td>\n",
       "      <td>30.000</td>\n",
       "      <td>2.810</td>\n",
       "    </tr>\n",
       "    <tr>\n",
       "      <th>2398</th>\n",
       "      <td>1001</td>\n",
       "      <td>6274141.402</td>\n",
       "      <td>5235048.741</td>\n",
       "      <td>2.810</td>\n",
       "      <td>30</td>\n",
       "      <td>1114 12:47:11</td>\n",
       "      <td>拖网</td>\n",
       "      <td>11</td>\n",
       "      <td>14</td>\n",
       "      <td>12</td>\n",
       "      <td>47</td>\n",
       "      <td>11</td>\n",
       "      <td>6273731.983</td>\n",
       "      <td>5234286.781</td>\n",
       "      <td>20.000</td>\n",
       "      <td>3.020</td>\n",
       "    </tr>\n",
       "    <tr>\n",
       "      <th>2399</th>\n",
       "      <td>1001</td>\n",
       "      <td>6273731.983</td>\n",
       "      <td>5234286.781</td>\n",
       "      <td>3.020</td>\n",
       "      <td>20</td>\n",
       "      <td>1114 12:36:51</td>\n",
       "      <td>拖网</td>\n",
       "      <td>11</td>\n",
       "      <td>14</td>\n",
       "      <td>12</td>\n",
       "      <td>36</td>\n",
       "      <td>51</td>\n",
       "      <td>6273321.736</td>\n",
       "      <td>5233415.452</td>\n",
       "      <td>348.000</td>\n",
       "      <td>2.910</td>\n",
       "    </tr>\n",
       "    <tr>\n",
       "      <th>2400</th>\n",
       "      <td>1001</td>\n",
       "      <td>6273321.736</td>\n",
       "      <td>5233415.452</td>\n",
       "      <td>2.910</td>\n",
       "      <td>348</td>\n",
       "      <td>1114 12:26:38</td>\n",
       "      <td>拖网</td>\n",
       "      <td>11</td>\n",
       "      <td>14</td>\n",
       "      <td>12</td>\n",
       "      <td>26</td>\n",
       "      <td>38</td>\n",
       "      <td>6272499.513</td>\n",
       "      <td>5231454.117</td>\n",
       "      <td>10.000</td>\n",
       "      <td>3.400</td>\n",
       "    </tr>\n",
       "    <tr>\n",
       "      <th>2401</th>\n",
       "      <td>1001</td>\n",
       "      <td>6272499.513</td>\n",
       "      <td>5231454.117</td>\n",
       "      <td>3.400</td>\n",
       "      <td>10</td>\n",
       "      <td>1114 12:06:45</td>\n",
       "      <td>拖网</td>\n",
       "      <td>11</td>\n",
       "      <td>14</td>\n",
       "      <td>12</td>\n",
       "      <td>6</td>\n",
       "      <td>45</td>\n",
       "      <td>6272499.513</td>\n",
       "      <td>5231454.117</td>\n",
       "      <td>10.000</td>\n",
       "      <td>3.400</td>\n",
       "    </tr>\n",
       "  </tbody>\n",
       "</table>\n",
       "<p>418 rows × 16 columns</p>\n",
       "</div>"
      ],
      "text/plain": [
       "      渔船ID           x           y    速度   方向           time type  month  day  \\\n",
       "1984  1001 6246424.331 5241152.582 0.320  279  1117 11:53:50   拖网     11   17   \n",
       "1985  1001 6246424.331 5241152.582 0.320  144  1117 11:43:48   拖网     11   17   \n",
       "1986  1001 6246424.331 5241152.582 0.110    0  1117 11:33:49   拖网     11   17   \n",
       "1987  1001 6246323.396 5241153.829 0.000  275  1117 11:23:46   拖网     11   17   \n",
       "1988  1001 6246323.396 5241153.829 0.000    0  1117 11:13:50   拖网     11   17   \n",
       "...    ...         ...         ...   ...  ...            ...  ...    ...  ...   \n",
       "2397  1001 6274752.740 5235808.806 2.700   10  1114 12:56:55   拖网     11   14   \n",
       "2398  1001 6274141.402 5235048.741 2.810   30  1114 12:47:11   拖网     11   14   \n",
       "2399  1001 6273731.983 5234286.781 3.020   20  1114 12:36:51   拖网     11   14   \n",
       "2400  1001 6273321.736 5233415.452 2.910  348  1114 12:26:38   拖网     11   14   \n",
       "2401  1001 6272499.513 5231454.117 3.400   10  1114 12:06:45   拖网     11   14   \n",
       "\n",
       "      hour  minute  second     x_shift     y_shift  方向_shift  速度_shift  \n",
       "1984    11      53      50 6246424.331 5241152.582   144.000     0.320  \n",
       "1985    11      43      48 6246424.331 5241152.582     0.000     0.110  \n",
       "1986    11      33      49 6246323.396 5241153.829   275.000     0.000  \n",
       "1987    11      23      46 6246323.396 5241153.829     0.000     0.000  \n",
       "1988    11      13      50 6246423.327 5241043.158   162.000     0.320  \n",
       "...    ...     ...     ...         ...         ...       ...       ...  \n",
       "2397    12      56      55 6274141.402 5235048.741    30.000     2.810  \n",
       "2398    12      47      11 6273731.983 5234286.781    20.000     3.020  \n",
       "2399    12      36      51 6273321.736 5233415.452   348.000     2.910  \n",
       "2400    12      26      38 6272499.513 5231454.117    10.000     3.400  \n",
       "2401    12       6      45 6272499.513 5231454.117    10.000     3.400  \n",
       "\n",
       "[418 rows x 16 columns]"
      ]
     },
     "execution_count": 69,
     "metadata": {},
     "output_type": "execute_result"
    }
   ],
   "source": [
    "tmp_time[tmp_time['渔船ID'] == 1001]"
   ]
  },
  {
   "cell_type": "code",
   "execution_count": 67,
   "metadata": {
    "ExecuteTime": {
     "end_time": "2020-01-20T06:34:42.221854Z",
     "start_time": "2020-01-20T06:29:57.642539Z"
    }
   },
   "outputs": [],
   "source": [
    "tmp_time = tmp_time.apply(lambda x: fill_value(x), axis=1)"
   ]
  },
  {
   "cell_type": "code",
   "execution_count": 29,
   "metadata": {
    "ExecuteTime": {
     "end_time": "2020-01-20T06:14:38.918350Z",
     "start_time": "2020-01-20T06:14:38.891421Z"
    }
   },
   "outputs": [
    {
     "name": "stdout",
     "output_type": "stream",
     "text": [
      "min month:10\n",
      "max month:11\n",
      "min day:1\n",
      "max day:31\n",
      "min hour:0\n",
      "max hour:23\n"
     ]
    }
   ],
   "source": [
    "print('min month:{}'.format(tmp_time['month'].min()))\n",
    "print('max month:{}'.format(tmp_time['month'].max()))\n",
    "print('min day:{}'.format(tmp_time['day'].min()))\n",
    "print('max day:{}'.format(tmp_time['day'].max()))\n",
    "print('min hour:{}'.format(tmp_time['hour'].min()))\n",
    "print('max hour:{}'.format(tmp_time['hour'].max()))"
   ]
  },
  {
   "cell_type": "markdown",
   "metadata": {},
   "source": [
    "#  时间维度信息\n",
    "\n",
    "1、间隔时间\n",
    "\n",
    "2、不同间隔时间航行距离差\n",
    "\n",
    "3、不同间隔时间航行速度差\n",
    "\n",
    "4、方向差(可能没有卵用)\n",
    "\n",
    "5、轨迹变化\n",
    "\n",
    "6、距离"
   ]
  },
  {
   "cell_type": "code",
   "execution_count": 8,
   "metadata": {
    "ExecuteTime": {
     "end_time": "2020-01-20T14:24:15.856341Z",
     "start_time": "2020-01-20T14:24:15.853338Z"
    }
   },
   "outputs": [],
   "source": [
    "def get_distance(df):\n",
    "    return np.sqrt((df['x']-df['x_shift'])**2 + (df['y'] - df['y_shift'])**2)"
   ]
  },
  {
   "cell_type": "code",
   "execution_count": 9,
   "metadata": {
    "ExecuteTime": {
     "end_time": "2020-01-20T14:24:16.442004Z",
     "start_time": "2020-01-20T14:24:16.438001Z"
    }
   },
   "outputs": [],
   "source": [
    "def fill_value(df):\n",
    "    col = ['x', 'y', '方向','速度','month', 'day','hour','minute']\n",
    "    for i in col:\n",
    "        if math.isnan(df[i + '_shift']) == True:\n",
    "            df[i + '_shift'] = df[i] \n",
    "    return df"
   ]
  },
  {
   "cell_type": "code",
   "execution_count": null,
   "metadata": {},
   "outputs": [],
   "source": [
    "def average(df):\n",
    "    a = df.sum()\n",
    "    return a/(a+1)"
   ]
  },
  {
   "cell_type": "code",
   "execution_count": 55,
   "metadata": {
    "ExecuteTime": {
     "end_time": "2020-01-20T15:06:38.606305Z",
     "start_time": "2020-01-20T15:06:38.593293Z"
    }
   },
   "outputs": [],
   "source": [
    "# feature engineering\n",
    "def get_feature(data):\n",
    "    \n",
    "    # 速度   \n",
    "    print('=============================start to process speed======================================')\n",
    "    start_time = time.time()\n",
    "    tmp_df = data[['渔船ID', '速度']].groupby(by=['渔船ID'], as_index=False)['速度'].agg({'speed_avg':lambda x: np.mean(x),\n",
    "                                                                     'speed_min':min ,\n",
    "                                                                     'speed_max':max,\n",
    "                                                                     'speed_median':np.median}).reset_index(drop=True)\n",
    "    print\n",
    "#     data = data.merge(tmp, on=['渔船ID'], how='left')    \n",
    "#     print(data.columns)\n",
    "    # 方向\n",
    "    tmp = df[['渔船ID', '方向']].groupby(by='渔船ID', as_index=False)['方向'].agg({'direction_avg':lambda x: np.mean(x),\n",
    "                                                                                 'direction_min':min ,\n",
    "                                                                                 'direction_max':max,\n",
    "                                                                                 'direction_median':np.median},).reset_index(drop=True)\n",
    "    tmp_df = tmp_df.merge(tmp, on=['渔船ID'], how='left')    \n",
    "    print('runtime:{}'.format(time.time()-start_time))\n",
    "    \n",
    "    # 经纬度\n",
    "    print('=============================start to process lng、lat======================================')\n",
    "    start_time = time.time()\n",
    "    tmp = data[['渔船ID','x']].groupby(by='渔船ID', as_index=False)['x'].agg(\n",
    "        {'x_avg':np.mean, 'x_min':min, 'x_max':max, 'x_median':np.median}).reset_index(drop=True)\n",
    "        \n",
    "    tmp_df = tmp_df.merge(tmp, on=['渔船ID'], how='left')\n",
    "    \n",
    "    tmp = data[['渔船ID','y']].groupby(by='渔船ID', as_index=False)['y'].agg(\n",
    "        {'y_avg':np.mean, 'y_min':min, 'y_max':max, 'y_median':np.median}).reset_index(drop=True)\n",
    "    \n",
    "    tmp_df = tmp_df.merge(tmp, on=['渔船ID'], how='left')\n",
    "    # 计算活动区域\n",
    "    tmp_df['width'] = tmp_df['x_max'] - tmp_df['x_min']\n",
    "    tmp_df['height'] = tmp_df['y_max'] - tmp_df['y_min']\n",
    "    tmp_df['area'] = tmp_df['width'] * tmp_df['height']\n",
    "    print('runtime:{}'.format(time.time()-start_time))\n",
    "\n",
    "    print('=============================start to process datetime======================================')\n",
    "#     start_time = time.time()\n",
    "#     # 处理时间信息\n",
    "#     data['month'] = data['time'].apply(lambda x: time.strptime(x, '%m%d %H:%M:%S').tm_mon)\n",
    "#     data['day'] = data['time'].apply(lambda x: time.strptime(x, '%m%d %H:%M:%S').tm_mday)\n",
    "#     data['hour'] = data['time'].apply(lambda x: time.strptime(x, '%m%d %H:%M:%S').tm_hour)\n",
    "#     data['minute'] = data['time'].apply(lambda x: time.strptime(x, '%m%d %H:%M:%S').tm_min)\n",
    "#     data['second'] = data['time'].apply(lambda x: time.strptime(x, '%m%d %H:%M:%S').tm_sec)    \n",
    "#     print('runtime:{}'.format(time.time()-start_time))\n",
    "\n",
    "    # 处理经纬度、速度方向变化,偏移值后第一列以初始数据填充\n",
    "    print('=============================start to process shift data======================================')\n",
    "#     start_time = time.time()\n",
    "#     lines = ['x', 'y', '方向','速度','month', 'day','hour','minute']\n",
    "#     shift_lines = [str(x)+'_shift' for x in lines]\n",
    "#     data[shift_lines] = data.groupby(by=['渔船ID'], as_index=False)[lines].shift(periods=-1)\n",
    "    \n",
    "#     data = data.apply(lambda x:fill_value(x), axis=1)    \n",
    "#     data['distance'] = data.apply(lambda x:get_distance(x), axis=1)\n",
    "#     data['speed_diff'] = data['速度'] - data['速度_shift']\n",
    "#     data['direction_diff'] = data['方向'] - data['方向_shift']\n",
    "    \n",
    "#     data['time_diff'] = (data['month'] - data['month_shift'])*31*24*60+(data['day'] - data['day_shift'])*24*60\\\n",
    "#                         + (data['hour']-data['hour_shift'])*60+(data['minute']-data['minute_shift'])\n",
    "    \n",
    "    print('runtime:{}'.format(time.time()-start_time))\n",
    "\n",
    "    del tmp\n",
    "    gc.collect()\n",
    "    return tmp_df"
   ]
  },
  {
   "cell_type": "code",
   "execution_count": 25,
   "metadata": {
    "ExecuteTime": {
     "end_time": "2020-01-20T14:46:37.029293Z",
     "start_time": "2020-01-20T14:46:34.629367Z"
    }
   },
   "outputs": [
    {
     "name": "stdout",
     "output_type": "stream",
     "text": [
      "=============================start to process speed======================================\n",
      "runtime:1.9735538959503174\n",
      "=============================start to process lng、lat======================================\n",
      "runtime:0.322293758392334\n",
      "=============================start to process datetime======================================\n",
      "=============================start to process shift data======================================\n",
      "runtime:0.32329463958740234\n"
     ]
    }
   ],
   "source": [
    "data = get_feature(df)"
   ]
  },
  {
   "cell_type": "code",
   "execution_count": 26,
   "metadata": {
    "ExecuteTime": {
     "end_time": "2020-01-20T14:46:49.084454Z",
     "start_time": "2020-01-20T14:46:49.069440Z"
    }
   },
   "outputs": [
    {
     "data": {
      "text/html": [
       "<div>\n",
       "<style scoped>\n",
       "    .dataframe tbody tr th:only-of-type {\n",
       "        vertical-align: middle;\n",
       "    }\n",
       "\n",
       "    .dataframe tbody tr th {\n",
       "        vertical-align: top;\n",
       "    }\n",
       "\n",
       "    .dataframe thead th {\n",
       "        text-align: right;\n",
       "    }\n",
       "</style>\n",
       "<table border=\"1\" class=\"dataframe\">\n",
       "  <thead>\n",
       "    <tr style=\"text-align: right;\">\n",
       "      <th></th>\n",
       "      <th>渔船ID</th>\n",
       "      <th>type</th>\n",
       "      <th>speed_avg</th>\n",
       "      <th>speed_min</th>\n",
       "      <th>speed_max</th>\n",
       "      <th>speed_median</th>\n",
       "      <th>direction_avg</th>\n",
       "      <th>direction_min</th>\n",
       "      <th>direction_max</th>\n",
       "      <th>direction_median</th>\n",
       "      <th>...</th>\n",
       "      <th>x_min</th>\n",
       "      <th>x_max</th>\n",
       "      <th>x_median</th>\n",
       "      <th>y_avg</th>\n",
       "      <th>y_min</th>\n",
       "      <th>y_max</th>\n",
       "      <th>y_median</th>\n",
       "      <th>width</th>\n",
       "      <th>height</th>\n",
       "      <th>area</th>\n",
       "    </tr>\n",
       "  </thead>\n",
       "  <tbody>\n",
       "    <tr>\n",
       "      <th>0</th>\n",
       "      <td>0</td>\n",
       "      <td>拖网</td>\n",
       "      <td>0.266</td>\n",
       "      <td>0.000</td>\n",
       "      <td>9.390</td>\n",
       "      <td>0.000</td>\n",
       "      <td>4.614</td>\n",
       "      <td>0</td>\n",
       "      <td>129</td>\n",
       "      <td>0.000</td>\n",
       "      <td>...</td>\n",
       "      <td>6118351.758</td>\n",
       "      <td>6152038.425</td>\n",
       "      <td>6118351.758</td>\n",
       "      <td>5130494.116</td>\n",
       "      <td>5124873.383</td>\n",
       "      <td>5130781.358</td>\n",
       "      <td>5130672.326</td>\n",
       "      <td>33686.667</td>\n",
       "      <td>5907.976</td>\n",
       "      <td>199020006.769</td>\n",
       "    </tr>\n",
       "    <tr>\n",
       "      <th>1</th>\n",
       "      <td>1</td>\n",
       "      <td>拖网</td>\n",
       "      <td>1.608</td>\n",
       "      <td>0.000</td>\n",
       "      <td>10.470</td>\n",
       "      <td>0.050</td>\n",
       "      <td>56.153</td>\n",
       "      <td>0</td>\n",
       "      <td>336</td>\n",
       "      <td>0.000</td>\n",
       "      <td>...</td>\n",
       "      <td>6049471.868</td>\n",
       "      <td>6102449.881</td>\n",
       "      <td>6102449.881</td>\n",
       "      <td>5094050.266</td>\n",
       "      <td>5042857.339</td>\n",
       "      <td>5112873.995</td>\n",
       "      <td>5112759.651</td>\n",
       "      <td>52978.013</td>\n",
       "      <td>70016.656</td>\n",
       "      <td>3709343327.529</td>\n",
       "    </tr>\n",
       "    <tr>\n",
       "      <th>2</th>\n",
       "      <td>2</td>\n",
       "      <td>拖网</td>\n",
       "      <td>0.595</td>\n",
       "      <td>0.000</td>\n",
       "      <td>50.460</td>\n",
       "      <td>0.220</td>\n",
       "      <td>123.356</td>\n",
       "      <td>0</td>\n",
       "      <td>360</td>\n",
       "      <td>71.000</td>\n",
       "      <td>...</td>\n",
       "      <td>6182482.188</td>\n",
       "      <td>6183191.023</td>\n",
       "      <td>6183089.761</td>\n",
       "      <td>5193682.049</td>\n",
       "      <td>5193575.537</td>\n",
       "      <td>5193696.102</td>\n",
       "      <td>5193684.797</td>\n",
       "      <td>708.835</td>\n",
       "      <td>120.565</td>\n",
       "      <td>85460.709</td>\n",
       "    </tr>\n",
       "    <tr>\n",
       "      <th>3</th>\n",
       "      <td>3</td>\n",
       "      <td>拖网</td>\n",
       "      <td>1.471</td>\n",
       "      <td>0.000</td>\n",
       "      <td>10.090</td>\n",
       "      <td>0.220</td>\n",
       "      <td>121.134</td>\n",
       "      <td>0</td>\n",
       "      <td>352</td>\n",
       "      <td>91.000</td>\n",
       "      <td>...</td>\n",
       "      <td>5228590.204</td>\n",
       "      <td>5287804.942</td>\n",
       "      <td>5229842.637</td>\n",
       "      <td>4601532.486</td>\n",
       "      <td>4577467.435</td>\n",
       "      <td>4608628.097</td>\n",
       "      <td>4608404.322</td>\n",
       "      <td>59214.739</td>\n",
       "      <td>31160.661</td>\n",
       "      <td>1845170405.824</td>\n",
       "    </tr>\n",
       "    <tr>\n",
       "      <th>4</th>\n",
       "      <td>4</td>\n",
       "      <td>围网</td>\n",
       "      <td>1.412</td>\n",
       "      <td>0.000</td>\n",
       "      <td>10.090</td>\n",
       "      <td>0.320</td>\n",
       "      <td>139.067</td>\n",
       "      <td>0</td>\n",
       "      <td>359</td>\n",
       "      <td>112.000</td>\n",
       "      <td>...</td>\n",
       "      <td>7049394.099</td>\n",
       "      <td>7070796.583</td>\n",
       "      <td>7061678.845</td>\n",
       "      <td>6116389.445</td>\n",
       "      <td>6094995.864</td>\n",
       "      <td>6136032.747</td>\n",
       "      <td>6116620.836</td>\n",
       "      <td>21402.485</td>\n",
       "      <td>41036.883</td>\n",
       "      <td>878291256.598</td>\n",
       "    </tr>\n",
       "  </tbody>\n",
       "</table>\n",
       "<p>5 rows × 21 columns</p>\n",
       "</div>"
      ],
      "text/plain": [
       "   渔船ID type  speed_avg  speed_min  speed_max  speed_median  direction_avg  \\\n",
       "0     0   拖网      0.266      0.000      9.390         0.000          4.614   \n",
       "1     1   拖网      1.608      0.000     10.470         0.050         56.153   \n",
       "2     2   拖网      0.595      0.000     50.460         0.220        123.356   \n",
       "3     3   拖网      1.471      0.000     10.090         0.220        121.134   \n",
       "4     4   围网      1.412      0.000     10.090         0.320        139.067   \n",
       "\n",
       "   direction_min  direction_max  direction_median  ...       x_min  \\\n",
       "0              0            129             0.000  ... 6118351.758   \n",
       "1              0            336             0.000  ... 6049471.868   \n",
       "2              0            360            71.000  ... 6182482.188   \n",
       "3              0            352            91.000  ... 5228590.204   \n",
       "4              0            359           112.000  ... 7049394.099   \n",
       "\n",
       "        x_max    x_median       y_avg       y_min       y_max    y_median  \\\n",
       "0 6152038.425 6118351.758 5130494.116 5124873.383 5130781.358 5130672.326   \n",
       "1 6102449.881 6102449.881 5094050.266 5042857.339 5112873.995 5112759.651   \n",
       "2 6183191.023 6183089.761 5193682.049 5193575.537 5193696.102 5193684.797   \n",
       "3 5287804.942 5229842.637 4601532.486 4577467.435 4608628.097 4608404.322   \n",
       "4 7070796.583 7061678.845 6116389.445 6094995.864 6136032.747 6116620.836   \n",
       "\n",
       "      width    height           area  \n",
       "0 33686.667  5907.976  199020006.769  \n",
       "1 52978.013 70016.656 3709343327.529  \n",
       "2   708.835   120.565      85460.709  \n",
       "3 59214.739 31160.661 1845170405.824  \n",
       "4 21402.485 41036.883  878291256.598  \n",
       "\n",
       "[5 rows x 21 columns]"
      ]
     },
     "execution_count": 26,
     "metadata": {},
     "output_type": "execute_result"
    }
   ],
   "source": [
    "data.head()"
   ]
  },
  {
   "cell_type": "markdown",
   "metadata": {},
   "source": [
    "# 建模\n",
    "单模lightGBM"
   ]
  },
  {
   "cell_type": "code",
   "execution_count": 3,
   "metadata": {
    "ExecuteTime": {
     "end_time": "2020-01-20T10:04:50.686397Z",
     "start_time": "2020-01-20T10:04:50.678419Z"
    },
    "collapsed": true
   },
   "outputs": [
    {
     "ename": "NameError",
     "evalue": "name 'data' is not defined",
     "output_type": "error",
     "traceback": [
      "\u001b[1;31m---------------------------------------------------------------------------\u001b[0m",
      "\u001b[1;31mNameError\u001b[0m                                 Traceback (most recent call last)",
      "\u001b[1;32m<ipython-input-3-922fb3d599f7>\u001b[0m in \u001b[0;36m<module>\u001b[1;34m\u001b[0m\n\u001b[1;32m----> 1\u001b[1;33m \u001b[0mdata\u001b[0m\u001b[1;33m.\u001b[0m\u001b[0mto_csv\u001b[0m\u001b[1;33m(\u001b[0m\u001b[1;34m'feature_data.csv'\u001b[0m\u001b[1;33m)\u001b[0m\u001b[1;33m\u001b[0m\u001b[1;33m\u001b[0m\u001b[0m\n\u001b[0m",
      "\u001b[1;31mNameError\u001b[0m: name 'data' is not defined"
     ]
    }
   ],
   "source": [
    "data.to_csv('feature_data.csv')"
   ]
  },
  {
   "cell_type": "code",
   "execution_count": 15,
   "metadata": {
    "ExecuteTime": {
     "end_time": "2020-01-20T10:08:35.308134Z",
     "start_time": "2020-01-20T10:08:26.245246Z"
    }
   },
   "outputs": [
    {
     "name": "stderr",
     "output_type": "stream",
     "text": [
      "D:\\Program Files (x86)\\Anaconda\\lib\\site-packages\\numpy\\lib\\arraysetops.py:569: FutureWarning: elementwise comparison failed; returning scalar instead, but in the future will perform elementwise comparison\n",
      "  mask |= (ar1 == a)\n"
     ]
    }
   ],
   "source": [
    "data = pd.read_csv('./feature_data.csv', index_col=0)"
   ]
  },
  {
   "cell_type": "code",
   "execution_count": 10,
   "metadata": {
    "ExecuteTime": {
     "end_time": "2020-01-20T10:07:01.838150Z",
     "start_time": "2020-01-20T10:07:01.668607Z"
    }
   },
   "outputs": [],
   "source": [
    "type_dict = {'拖网':0, '围网':1, '刺网':2}\n",
    "data['type'] = data['type'].map(type_dict)"
   ]
  },
  {
   "cell_type": "code",
   "execution_count": 27,
   "metadata": {
    "ExecuteTime": {
     "end_time": "2020-01-20T14:47:02.822503Z",
     "start_time": "2020-01-20T14:47:02.820501Z"
    }
   },
   "outputs": [],
   "source": [
    "labels = data['type']"
   ]
  },
  {
   "cell_type": "code",
   "execution_count": 33,
   "metadata": {
    "ExecuteTime": {
     "end_time": "2020-01-20T14:48:44.840248Z",
     "start_time": "2020-01-20T14:48:44.836245Z"
    }
   },
   "outputs": [],
   "source": [
    "data = data.rename(columns={'渔船ID':'shipID'})"
   ]
  },
  {
   "cell_type": "code",
   "execution_count": 34,
   "metadata": {
    "ExecuteTime": {
     "end_time": "2020-01-20T14:48:47.358543Z",
     "start_time": "2020-01-20T14:48:47.355539Z"
    },
    "scrolled": true
   },
   "outputs": [],
   "source": [
    "kf = skfold(n_splits=5, shuffle=True, random_state=2019)\n",
    "# data = data.drop(columns='type')"
   ]
  },
  {
   "cell_type": "code",
   "execution_count": 88,
   "metadata": {
    "ExecuteTime": {
     "end_time": "2020-01-20T15:31:03.505114Z",
     "start_time": "2020-01-20T15:31:03.502113Z"
    }
   },
   "outputs": [],
   "source": [
    "cols = data.columns.tolist()"
   ]
  },
  {
   "cell_type": "code",
   "execution_count": 90,
   "metadata": {
    "ExecuteTime": {
     "end_time": "2020-01-20T15:32:24.935761Z",
     "start_time": "2020-01-20T15:32:24.932758Z"
    }
   },
   "outputs": [],
   "source": [
    "data.set_index(keys='shipID', inplace=True)"
   ]
  },
  {
   "cell_type": "code",
   "execution_count": 92,
   "metadata": {
    "ExecuteTime": {
     "end_time": "2020-01-20T15:32:39.774615Z",
     "start_time": "2020-01-20T15:32:39.767609Z"
    }
   },
   "outputs": [
    {
     "name": "stdout",
     "output_type": "stream",
     "text": [
      "<class 'pandas.core.frame.DataFrame'>\n",
      "Int64Index: 7000 entries, 0 to 6999\n",
      "Data columns (total 19 columns):\n",
      "speed_avg           7000 non-null float64\n",
      "speed_min           7000 non-null float64\n",
      "speed_max           7000 non-null float64\n",
      "speed_median        7000 non-null float64\n",
      "direction_avg       7000 non-null float64\n",
      "direction_min       7000 non-null int64\n",
      "direction_max       7000 non-null int64\n",
      "direction_median    7000 non-null float64\n",
      "x_avg               7000 non-null float64\n",
      "x_min               7000 non-null float64\n",
      "x_max               7000 non-null float64\n",
      "x_median            7000 non-null float64\n",
      "y_avg               7000 non-null float64\n",
      "y_min               7000 non-null float64\n",
      "y_max               7000 non-null float64\n",
      "y_median            7000 non-null float64\n",
      "width               7000 non-null float64\n",
      "height              7000 non-null float64\n",
      "area                7000 non-null float64\n",
      "dtypes: float64(17), int64(2)\n",
      "memory usage: 1.1 MB\n"
     ]
    }
   ],
   "source": [
    "data.info()"
   ]
  },
  {
   "cell_type": "code",
   "execution_count": 93,
   "metadata": {
    "ExecuteTime": {
     "end_time": "2020-01-20T15:33:45.457489Z",
     "start_time": "2020-01-20T15:32:48.144096Z"
    }
   },
   "outputs": [
    {
     "name": "stdout",
     "output_type": "stream",
     "text": [
      "Training until validation scores don't improve for 500 rounds\n",
      "[50]\tvalid_0's multi_logloss: 0.676618\n",
      "[100]\tvalid_0's multi_logloss: 0.559921\n",
      "[150]\tvalid_0's multi_logloss: 0.493343\n",
      "[200]\tvalid_0's multi_logloss: 0.449594\n",
      "[250]\tvalid_0's multi_logloss: 0.41936\n",
      "[300]\tvalid_0's multi_logloss: 0.398663\n",
      "[350]\tvalid_0's multi_logloss: 0.382951\n",
      "[400]\tvalid_0's multi_logloss: 0.370006\n",
      "[450]\tvalid_0's multi_logloss: 0.360161\n",
      "[500]\tvalid_0's multi_logloss: 0.351426\n",
      "[550]\tvalid_0's multi_logloss: 0.344035\n",
      "[600]\tvalid_0's multi_logloss: 0.337949\n",
      "[650]\tvalid_0's multi_logloss: 0.333344\n",
      "[700]\tvalid_0's multi_logloss: 0.328145\n",
      "[750]\tvalid_0's multi_logloss: 0.323833\n",
      "[800]\tvalid_0's multi_logloss: 0.32034\n",
      "[850]\tvalid_0's multi_logloss: 0.317502\n",
      "[900]\tvalid_0's multi_logloss: 0.314413\n",
      "[950]\tvalid_0's multi_logloss: 0.311902\n",
      "[1000]\tvalid_0's multi_logloss: 0.309261\n",
      "[1050]\tvalid_0's multi_logloss: 0.306785\n",
      "[1100]\tvalid_0's multi_logloss: 0.304569\n",
      "[1150]\tvalid_0's multi_logloss: 0.302636\n",
      "[1200]\tvalid_0's multi_logloss: 0.300736\n",
      "[1250]\tvalid_0's multi_logloss: 0.298654\n",
      "[1300]\tvalid_0's multi_logloss: 0.297179\n",
      "[1350]\tvalid_0's multi_logloss: 0.295708\n",
      "[1400]\tvalid_0's multi_logloss: 0.293716\n",
      "[1450]\tvalid_0's multi_logloss: 0.291932\n",
      "[1500]\tvalid_0's multi_logloss: 0.290094\n",
      "[1550]\tvalid_0's multi_logloss: 0.288467\n",
      "[1600]\tvalid_0's multi_logloss: 0.286926\n",
      "[1650]\tvalid_0's multi_logloss: 0.285847\n",
      "[1700]\tvalid_0's multi_logloss: 0.284459\n",
      "[1750]\tvalid_0's multi_logloss: 0.282842\n",
      "[1800]\tvalid_0's multi_logloss: 0.28144\n",
      "[1850]\tvalid_0's multi_logloss: 0.280048\n",
      "[1900]\tvalid_0's multi_logloss: 0.278949\n",
      "[1950]\tvalid_0's multi_logloss: 0.278232\n",
      "[2000]\tvalid_0's multi_logloss: 0.277398\n",
      "[2050]\tvalid_0's multi_logloss: 0.276768\n",
      "[2100]\tvalid_0's multi_logloss: 0.275772\n",
      "[2150]\tvalid_0's multi_logloss: 0.274575\n",
      "[2200]\tvalid_0's multi_logloss: 0.274016\n",
      "[2250]\tvalid_0's multi_logloss: 0.273598\n",
      "[2300]\tvalid_0's multi_logloss: 0.272803\n",
      "[2350]\tvalid_0's multi_logloss: 0.272478\n",
      "[2400]\tvalid_0's multi_logloss: 0.271861\n",
      "[2450]\tvalid_0's multi_logloss: 0.271336\n",
      "[2500]\tvalid_0's multi_logloss: 0.271007\n",
      "[2550]\tvalid_0's multi_logloss: 0.270558\n",
      "[2600]\tvalid_0's multi_logloss: 0.270324\n",
      "[2650]\tvalid_0's multi_logloss: 0.269918\n",
      "[2700]\tvalid_0's multi_logloss: 0.269903\n",
      "[2750]\tvalid_0's multi_logloss: 0.269677\n",
      "[2800]\tvalid_0's multi_logloss: 0.269491\n",
      "[2850]\tvalid_0's multi_logloss: 0.269317\n",
      "[2900]\tvalid_0's multi_logloss: 0.269025\n",
      "[2950]\tvalid_0's multi_logloss: 0.268836\n",
      "[3000]\tvalid_0's multi_logloss: 0.268506\n",
      "[3050]\tvalid_0's multi_logloss: 0.267907\n",
      "[3100]\tvalid_0's multi_logloss: 0.267838\n",
      "[3150]\tvalid_0's multi_logloss: 0.267965\n",
      "[3200]\tvalid_0's multi_logloss: 0.267589\n",
      "[3250]\tvalid_0's multi_logloss: 0.267537\n",
      "[3300]\tvalid_0's multi_logloss: 0.267263\n",
      "[3350]\tvalid_0's multi_logloss: 0.26724\n",
      "[3400]\tvalid_0's multi_logloss: 0.267228\n",
      "[3450]\tvalid_0's multi_logloss: 0.26723\n",
      "[3500]\tvalid_0's multi_logloss: 0.267225\n",
      "[3550]\tvalid_0's multi_logloss: 0.267368\n",
      "[3600]\tvalid_0's multi_logloss: 0.267556\n",
      "[3650]\tvalid_0's multi_logloss: 0.26766\n",
      "[3700]\tvalid_0's multi_logloss: 0.26747\n",
      "[3750]\tvalid_0's multi_logloss: 0.267346\n",
      "[3800]\tvalid_0's multi_logloss: 0.267296\n",
      "[3850]\tvalid_0's multi_logloss: 0.2673\n",
      "Early stopping, best iteration is:\n",
      "[3371]\tvalid_0's multi_logloss: 0.267088\n",
      "score:0.8992857142857142\n",
      "f1_score0.871529124247764\n",
      "Training until validation scores don't improve for 500 rounds\n",
      "[50]\tvalid_0's multi_logloss: 0.671013\n",
      "[100]\tvalid_0's multi_logloss: 0.551945\n",
      "[150]\tvalid_0's multi_logloss: 0.481172\n",
      "[200]\tvalid_0's multi_logloss: 0.435692\n",
      "[250]\tvalid_0's multi_logloss: 0.406388\n",
      "[300]\tvalid_0's multi_logloss: 0.386264\n",
      "[350]\tvalid_0's multi_logloss: 0.369991\n",
      "[400]\tvalid_0's multi_logloss: 0.356759\n",
      "[450]\tvalid_0's multi_logloss: 0.346083\n",
      "[500]\tvalid_0's multi_logloss: 0.338386\n",
      "[550]\tvalid_0's multi_logloss: 0.332021\n",
      "[600]\tvalid_0's multi_logloss: 0.325121\n",
      "[650]\tvalid_0's multi_logloss: 0.319049\n",
      "[700]\tvalid_0's multi_logloss: 0.315045\n",
      "[750]\tvalid_0's multi_logloss: 0.311169\n",
      "[800]\tvalid_0's multi_logloss: 0.307486\n",
      "[850]\tvalid_0's multi_logloss: 0.304243\n",
      "[900]\tvalid_0's multi_logloss: 0.301486\n",
      "[950]\tvalid_0's multi_logloss: 0.298647\n",
      "[1000]\tvalid_0's multi_logloss: 0.295995\n",
      "[1050]\tvalid_0's multi_logloss: 0.293663\n",
      "[1100]\tvalid_0's multi_logloss: 0.291348\n",
      "[1150]\tvalid_0's multi_logloss: 0.289288\n",
      "[1200]\tvalid_0's multi_logloss: 0.287463\n",
      "[1250]\tvalid_0's multi_logloss: 0.285674\n",
      "[1300]\tvalid_0's multi_logloss: 0.283985\n",
      "[1350]\tvalid_0's multi_logloss: 0.282343\n",
      "[1400]\tvalid_0's multi_logloss: 0.280941\n",
      "[1450]\tvalid_0's multi_logloss: 0.27956\n",
      "[1500]\tvalid_0's multi_logloss: 0.27811\n",
      "[1550]\tvalid_0's multi_logloss: 0.276893\n",
      "[1600]\tvalid_0's multi_logloss: 0.275549\n",
      "[1650]\tvalid_0's multi_logloss: 0.274571\n",
      "[1700]\tvalid_0's multi_logloss: 0.273425\n",
      "[1750]\tvalid_0's multi_logloss: 0.271965\n",
      "[1800]\tvalid_0's multi_logloss: 0.27103\n",
      "[1850]\tvalid_0's multi_logloss: 0.270097\n",
      "[1900]\tvalid_0's multi_logloss: 0.269027\n",
      "[1950]\tvalid_0's multi_logloss: 0.268194\n",
      "[2000]\tvalid_0's multi_logloss: 0.266963\n",
      "[2050]\tvalid_0's multi_logloss: 0.265988\n",
      "[2100]\tvalid_0's multi_logloss: 0.265373\n",
      "[2150]\tvalid_0's multi_logloss: 0.264779\n",
      "[2200]\tvalid_0's multi_logloss: 0.26419\n",
      "[2250]\tvalid_0's multi_logloss: 0.263872\n",
      "[2300]\tvalid_0's multi_logloss: 0.263438\n",
      "[2350]\tvalid_0's multi_logloss: 0.262883\n",
      "[2400]\tvalid_0's multi_logloss: 0.262318\n",
      "[2450]\tvalid_0's multi_logloss: 0.26206\n",
      "[2500]\tvalid_0's multi_logloss: 0.261935\n",
      "[2550]\tvalid_0's multi_logloss: 0.261643\n",
      "[2600]\tvalid_0's multi_logloss: 0.261435\n",
      "[2650]\tvalid_0's multi_logloss: 0.261297\n",
      "[2700]\tvalid_0's multi_logloss: 0.260921\n",
      "[2750]\tvalid_0's multi_logloss: 0.260612\n",
      "[2800]\tvalid_0's multi_logloss: 0.260465\n",
      "[2850]\tvalid_0's multi_logloss: 0.260341\n",
      "[2900]\tvalid_0's multi_logloss: 0.260528\n",
      "[2950]\tvalid_0's multi_logloss: 0.260399\n",
      "[3000]\tvalid_0's multi_logloss: 0.260622\n",
      "[3050]\tvalid_0's multi_logloss: 0.260518\n",
      "[3100]\tvalid_0's multi_logloss: 0.260708\n",
      "[3150]\tvalid_0's multi_logloss: 0.260709\n",
      "[3200]\tvalid_0's multi_logloss: 0.260853\n",
      "[3250]\tvalid_0's multi_logloss: 0.260732\n",
      "[3300]\tvalid_0's multi_logloss: 0.26081\n",
      "Early stopping, best iteration is:\n",
      "[2837]\tvalid_0's multi_logloss: 0.26026\n",
      "score:0.9035714285714286\n",
      "f1_score0.8773452089529626\n",
      "Training until validation scores don't improve for 500 rounds\n",
      "[50]\tvalid_0's multi_logloss: 0.67346\n",
      "[100]\tvalid_0's multi_logloss: 0.555265\n",
      "[150]\tvalid_0's multi_logloss: 0.484619\n",
      "[200]\tvalid_0's multi_logloss: 0.439311\n",
      "[250]\tvalid_0's multi_logloss: 0.410652\n",
      "[300]\tvalid_0's multi_logloss: 0.389735\n",
      "[350]\tvalid_0's multi_logloss: 0.374036\n",
      "[400]\tvalid_0's multi_logloss: 0.360197\n",
      "[450]\tvalid_0's multi_logloss: 0.34737\n",
      "[500]\tvalid_0's multi_logloss: 0.338147\n",
      "[550]\tvalid_0's multi_logloss: 0.329571\n",
      "[600]\tvalid_0's multi_logloss: 0.323748\n",
      "[650]\tvalid_0's multi_logloss: 0.317488\n",
      "[700]\tvalid_0's multi_logloss: 0.311852\n",
      "[750]\tvalid_0's multi_logloss: 0.305857\n",
      "[800]\tvalid_0's multi_logloss: 0.300973\n",
      "[850]\tvalid_0's multi_logloss: 0.297212\n",
      "[900]\tvalid_0's multi_logloss: 0.293533\n",
      "[950]\tvalid_0's multi_logloss: 0.290332\n",
      "[1000]\tvalid_0's multi_logloss: 0.287375\n",
      "[1050]\tvalid_0's multi_logloss: 0.284697\n",
      "[1100]\tvalid_0's multi_logloss: 0.281886\n",
      "[1150]\tvalid_0's multi_logloss: 0.279252\n",
      "[1200]\tvalid_0's multi_logloss: 0.276722\n",
      "[1250]\tvalid_0's multi_logloss: 0.27421\n",
      "[1300]\tvalid_0's multi_logloss: 0.271828\n",
      "[1350]\tvalid_0's multi_logloss: 0.269872\n",
      "[1400]\tvalid_0's multi_logloss: 0.267677\n",
      "[1450]\tvalid_0's multi_logloss: 0.2659\n",
      "[1500]\tvalid_0's multi_logloss: 0.264324\n",
      "[1550]\tvalid_0's multi_logloss: 0.262807\n",
      "[1600]\tvalid_0's multi_logloss: 0.261188\n",
      "[1650]\tvalid_0's multi_logloss: 0.259655\n",
      "[1700]\tvalid_0's multi_logloss: 0.258137\n",
      "[1750]\tvalid_0's multi_logloss: 0.256782\n",
      "[1800]\tvalid_0's multi_logloss: 0.255544\n",
      "[1850]\tvalid_0's multi_logloss: 0.25442\n",
      "[1900]\tvalid_0's multi_logloss: 0.253303\n",
      "[1950]\tvalid_0's multi_logloss: 0.252715\n",
      "[2000]\tvalid_0's multi_logloss: 0.251756\n",
      "[2050]\tvalid_0's multi_logloss: 0.25035\n",
      "[2100]\tvalid_0's multi_logloss: 0.249275\n",
      "[2150]\tvalid_0's multi_logloss: 0.248717\n",
      "[2200]\tvalid_0's multi_logloss: 0.248142\n",
      "[2250]\tvalid_0's multi_logloss: 0.247563\n",
      "[2300]\tvalid_0's multi_logloss: 0.246844\n",
      "[2350]\tvalid_0's multi_logloss: 0.246286\n",
      "[2400]\tvalid_0's multi_logloss: 0.245869\n",
      "[2450]\tvalid_0's multi_logloss: 0.245802\n"
     ]
    },
    {
     "name": "stdout",
     "output_type": "stream",
     "text": [
      "[2500]\tvalid_0's multi_logloss: 0.245008\n",
      "[2550]\tvalid_0's multi_logloss: 0.244494\n",
      "[2600]\tvalid_0's multi_logloss: 0.244157\n",
      "[2650]\tvalid_0's multi_logloss: 0.243965\n",
      "[2700]\tvalid_0's multi_logloss: 0.24345\n",
      "[2750]\tvalid_0's multi_logloss: 0.242901\n",
      "[2800]\tvalid_0's multi_logloss: 0.24225\n",
      "[2850]\tvalid_0's multi_logloss: 0.241869\n",
      "[2900]\tvalid_0's multi_logloss: 0.241652\n",
      "[2950]\tvalid_0's multi_logloss: 0.241221\n",
      "[3000]\tvalid_0's multi_logloss: 0.240856\n",
      "[3050]\tvalid_0's multi_logloss: 0.240612\n",
      "[3100]\tvalid_0's multi_logloss: 0.24037\n",
      "[3150]\tvalid_0's multi_logloss: 0.240217\n",
      "[3200]\tvalid_0's multi_logloss: 0.240064\n",
      "[3250]\tvalid_0's multi_logloss: 0.239859\n",
      "[3300]\tvalid_0's multi_logloss: 0.239646\n",
      "[3350]\tvalid_0's multi_logloss: 0.239625\n",
      "[3400]\tvalid_0's multi_logloss: 0.239371\n",
      "[3450]\tvalid_0's multi_logloss: 0.238982\n",
      "[3500]\tvalid_0's multi_logloss: 0.238797\n",
      "[3550]\tvalid_0's multi_logloss: 0.238886\n",
      "[3600]\tvalid_0's multi_logloss: 0.238925\n",
      "[3650]\tvalid_0's multi_logloss: 0.238678\n",
      "[3700]\tvalid_0's multi_logloss: 0.238691\n",
      "[3750]\tvalid_0's multi_logloss: 0.238467\n",
      "[3800]\tvalid_0's multi_logloss: 0.23844\n",
      "[3850]\tvalid_0's multi_logloss: 0.238215\n",
      "[3900]\tvalid_0's multi_logloss: 0.23798\n",
      "[3950]\tvalid_0's multi_logloss: 0.237594\n",
      "[4000]\tvalid_0's multi_logloss: 0.237575\n",
      "[4050]\tvalid_0's multi_logloss: 0.237399\n",
      "[4100]\tvalid_0's multi_logloss: 0.237174\n",
      "[4150]\tvalid_0's multi_logloss: 0.236997\n",
      "[4200]\tvalid_0's multi_logloss: 0.236901\n",
      "[4250]\tvalid_0's multi_logloss: 0.236732\n",
      "[4300]\tvalid_0's multi_logloss: 0.23662\n",
      "[4350]\tvalid_0's multi_logloss: 0.236707\n",
      "[4400]\tvalid_0's multi_logloss: 0.236654\n",
      "[4450]\tvalid_0's multi_logloss: 0.236518\n",
      "[4500]\tvalid_0's multi_logloss: 0.236263\n",
      "[4550]\tvalid_0's multi_logloss: 0.236108\n",
      "[4600]\tvalid_0's multi_logloss: 0.235934\n",
      "[4650]\tvalid_0's multi_logloss: 0.235777\n",
      "[4700]\tvalid_0's multi_logloss: 0.235663\n",
      "[4750]\tvalid_0's multi_logloss: 0.235795\n",
      "[4800]\tvalid_0's multi_logloss: 0.235884\n",
      "[4850]\tvalid_0's multi_logloss: 0.236068\n",
      "[4900]\tvalid_0's multi_logloss: 0.236036\n",
      "[4950]\tvalid_0's multi_logloss: 0.236074\n",
      "[5000]\tvalid_0's multi_logloss: 0.236184\n",
      "[5050]\tvalid_0's multi_logloss: 0.236309\n",
      "[5100]\tvalid_0's multi_logloss: 0.236343\n",
      "[5150]\tvalid_0's multi_logloss: 0.236521\n",
      "Early stopping, best iteration is:\n",
      "[4699]\tvalid_0's multi_logloss: 0.235648\n",
      "score:0.9121428571428571\n",
      "f1_score0.8855039680618896\n",
      "Training until validation scores don't improve for 500 rounds\n",
      "[50]\tvalid_0's multi_logloss: 0.672911\n",
      "[100]\tvalid_0's multi_logloss: 0.551114\n",
      "[150]\tvalid_0's multi_logloss: 0.478952\n",
      "[200]\tvalid_0's multi_logloss: 0.434988\n",
      "[250]\tvalid_0's multi_logloss: 0.404736\n",
      "[300]\tvalid_0's multi_logloss: 0.38246\n",
      "[350]\tvalid_0's multi_logloss: 0.36471\n",
      "[400]\tvalid_0's multi_logloss: 0.35076\n",
      "[450]\tvalid_0's multi_logloss: 0.340396\n",
      "[500]\tvalid_0's multi_logloss: 0.332113\n",
      "[550]\tvalid_0's multi_logloss: 0.324201\n",
      "[600]\tvalid_0's multi_logloss: 0.317836\n",
      "[650]\tvalid_0's multi_logloss: 0.312635\n",
      "[700]\tvalid_0's multi_logloss: 0.307602\n",
      "[750]\tvalid_0's multi_logloss: 0.302971\n",
      "[800]\tvalid_0's multi_logloss: 0.298599\n",
      "[850]\tvalid_0's multi_logloss: 0.294619\n",
      "[900]\tvalid_0's multi_logloss: 0.290337\n",
      "[950]\tvalid_0's multi_logloss: 0.286462\n",
      "[1000]\tvalid_0's multi_logloss: 0.282977\n",
      "[1050]\tvalid_0's multi_logloss: 0.279824\n",
      "[1100]\tvalid_0's multi_logloss: 0.276779\n",
      "[1150]\tvalid_0's multi_logloss: 0.27436\n",
      "[1200]\tvalid_0's multi_logloss: 0.272298\n",
      "[1250]\tvalid_0's multi_logloss: 0.270297\n",
      "[1300]\tvalid_0's multi_logloss: 0.268481\n",
      "[1350]\tvalid_0's multi_logloss: 0.266717\n",
      "[1400]\tvalid_0's multi_logloss: 0.265198\n",
      "[1450]\tvalid_0's multi_logloss: 0.263376\n",
      "[1500]\tvalid_0's multi_logloss: 0.262023\n",
      "[1550]\tvalid_0's multi_logloss: 0.260262\n",
      "[1600]\tvalid_0's multi_logloss: 0.258559\n",
      "[1650]\tvalid_0's multi_logloss: 0.257031\n",
      "[1700]\tvalid_0's multi_logloss: 0.255669\n",
      "[1750]\tvalid_0's multi_logloss: 0.253836\n",
      "[1800]\tvalid_0's multi_logloss: 0.25241\n",
      "[1850]\tvalid_0's multi_logloss: 0.251043\n",
      "[1900]\tvalid_0's multi_logloss: 0.249566\n",
      "[1950]\tvalid_0's multi_logloss: 0.24815\n",
      "[2000]\tvalid_0's multi_logloss: 0.246734\n",
      "[2050]\tvalid_0's multi_logloss: 0.24543\n",
      "[2100]\tvalid_0's multi_logloss: 0.24427\n",
      "[2150]\tvalid_0's multi_logloss: 0.243099\n",
      "[2200]\tvalid_0's multi_logloss: 0.242159\n",
      "[2250]\tvalid_0's multi_logloss: 0.241432\n",
      "[2300]\tvalid_0's multi_logloss: 0.240474\n",
      "[2350]\tvalid_0's multi_logloss: 0.23943\n",
      "[2400]\tvalid_0's multi_logloss: 0.238637\n",
      "[2450]\tvalid_0's multi_logloss: 0.237602\n",
      "[2500]\tvalid_0's multi_logloss: 0.236621\n",
      "[2550]\tvalid_0's multi_logloss: 0.235799\n",
      "[2600]\tvalid_0's multi_logloss: 0.235091\n",
      "[2650]\tvalid_0's multi_logloss: 0.234319\n",
      "[2700]\tvalid_0's multi_logloss: 0.23417\n",
      "[2750]\tvalid_0's multi_logloss: 0.233931\n",
      "[2800]\tvalid_0's multi_logloss: 0.233437\n",
      "[2850]\tvalid_0's multi_logloss: 0.23306\n",
      "[2900]\tvalid_0's multi_logloss: 0.232657\n",
      "[2950]\tvalid_0's multi_logloss: 0.232592\n",
      "[3000]\tvalid_0's multi_logloss: 0.232234\n",
      "[3050]\tvalid_0's multi_logloss: 0.232319\n",
      "[3100]\tvalid_0's multi_logloss: 0.23195\n",
      "[3150]\tvalid_0's multi_logloss: 0.231698\n",
      "[3200]\tvalid_0's multi_logloss: 0.231552\n",
      "[3250]\tvalid_0's multi_logloss: 0.231328\n",
      "[3300]\tvalid_0's multi_logloss: 0.230968\n",
      "[3350]\tvalid_0's multi_logloss: 0.23087\n",
      "[3400]\tvalid_0's multi_logloss: 0.230648\n",
      "[3450]\tvalid_0's multi_logloss: 0.230447\n",
      "[3500]\tvalid_0's multi_logloss: 0.230382\n",
      "[3550]\tvalid_0's multi_logloss: 0.230028\n",
      "[3600]\tvalid_0's multi_logloss: 0.229806\n",
      "[3650]\tvalid_0's multi_logloss: 0.229519\n",
      "[3700]\tvalid_0's multi_logloss: 0.229136\n",
      "[3750]\tvalid_0's multi_logloss: 0.229085\n",
      "[3800]\tvalid_0's multi_logloss: 0.228947\n",
      "[3850]\tvalid_0's multi_logloss: 0.228987\n",
      "[3900]\tvalid_0's multi_logloss: 0.229152\n",
      "[3950]\tvalid_0's multi_logloss: 0.22923\n",
      "[4000]\tvalid_0's multi_logloss: 0.229211\n",
      "[4050]\tvalid_0's multi_logloss: 0.229334\n",
      "[4100]\tvalid_0's multi_logloss: 0.229282\n",
      "[4150]\tvalid_0's multi_logloss: 0.229493\n",
      "[4200]\tvalid_0's multi_logloss: 0.229718\n",
      "[4250]\tvalid_0's multi_logloss: 0.229785\n",
      "[4300]\tvalid_0's multi_logloss: 0.229899\n",
      "Early stopping, best iteration is:\n",
      "[3810]\tvalid_0's multi_logloss: 0.228911\n",
      "score:0.9107142857142857\n",
      "f1_score0.8813620711086149\n",
      "Training until validation scores don't improve for 500 rounds\n",
      "[50]\tvalid_0's multi_logloss: 0.678243\n",
      "[100]\tvalid_0's multi_logloss: 0.561877\n",
      "[150]\tvalid_0's multi_logloss: 0.490873\n",
      "[200]\tvalid_0's multi_logloss: 0.446055\n",
      "[250]\tvalid_0's multi_logloss: 0.416344\n",
      "[300]\tvalid_0's multi_logloss: 0.394328\n",
      "[350]\tvalid_0's multi_logloss: 0.378112\n",
      "[400]\tvalid_0's multi_logloss: 0.365646\n",
      "[450]\tvalid_0's multi_logloss: 0.354524\n",
      "[500]\tvalid_0's multi_logloss: 0.345474\n",
      "[550]\tvalid_0's multi_logloss: 0.338231\n",
      "[600]\tvalid_0's multi_logloss: 0.332033\n",
      "[650]\tvalid_0's multi_logloss: 0.326082\n",
      "[700]\tvalid_0's multi_logloss: 0.320662\n",
      "[750]\tvalid_0's multi_logloss: 0.314805\n",
      "[800]\tvalid_0's multi_logloss: 0.309147\n",
      "[850]\tvalid_0's multi_logloss: 0.30441\n",
      "[900]\tvalid_0's multi_logloss: 0.299714\n",
      "[950]\tvalid_0's multi_logloss: 0.295631\n",
      "[1000]\tvalid_0's multi_logloss: 0.291964\n",
      "[1050]\tvalid_0's multi_logloss: 0.288651\n",
      "[1100]\tvalid_0's multi_logloss: 0.285481\n",
      "[1150]\tvalid_0's multi_logloss: 0.282624\n",
      "[1200]\tvalid_0's multi_logloss: 0.279628\n",
      "[1250]\tvalid_0's multi_logloss: 0.277201\n",
      "[1300]\tvalid_0's multi_logloss: 0.275262\n",
      "[1350]\tvalid_0's multi_logloss: 0.272944\n",
      "[1400]\tvalid_0's multi_logloss: 0.270898\n",
      "[1450]\tvalid_0's multi_logloss: 0.26898\n",
      "[1500]\tvalid_0's multi_logloss: 0.267344\n",
      "[1550]\tvalid_0's multi_logloss: 0.265726\n",
      "[1600]\tvalid_0's multi_logloss: 0.264258\n",
      "[1650]\tvalid_0's multi_logloss: 0.262936\n",
      "[1700]\tvalid_0's multi_logloss: 0.2616\n",
      "[1750]\tvalid_0's multi_logloss: 0.259859\n",
      "[1800]\tvalid_0's multi_logloss: 0.258269\n",
      "[1850]\tvalid_0's multi_logloss: 0.256749\n",
      "[1900]\tvalid_0's multi_logloss: 0.255256\n",
      "[1950]\tvalid_0's multi_logloss: 0.254065\n",
      "[2000]\tvalid_0's multi_logloss: 0.252998\n",
      "[2050]\tvalid_0's multi_logloss: 0.252127\n",
      "[2100]\tvalid_0's multi_logloss: 0.251424\n",
      "[2150]\tvalid_0's multi_logloss: 0.250784\n",
      "[2200]\tvalid_0's multi_logloss: 0.249972\n",
      "[2250]\tvalid_0's multi_logloss: 0.249189\n",
      "[2300]\tvalid_0's multi_logloss: 0.248175\n",
      "[2350]\tvalid_0's multi_logloss: 0.247493\n",
      "[2400]\tvalid_0's multi_logloss: 0.246939\n",
      "[2450]\tvalid_0's multi_logloss: 0.246164\n",
      "[2500]\tvalid_0's multi_logloss: 0.245464\n",
      "[2550]\tvalid_0's multi_logloss: 0.244743\n",
      "[2600]\tvalid_0's multi_logloss: 0.244264\n",
      "[2650]\tvalid_0's multi_logloss: 0.243876\n"
     ]
    },
    {
     "name": "stdout",
     "output_type": "stream",
     "text": [
      "[2700]\tvalid_0's multi_logloss: 0.243291\n",
      "[2750]\tvalid_0's multi_logloss: 0.242672\n",
      "[2800]\tvalid_0's multi_logloss: 0.242396\n",
      "[2850]\tvalid_0's multi_logloss: 0.24186\n",
      "[2900]\tvalid_0's multi_logloss: 0.241069\n",
      "[2950]\tvalid_0's multi_logloss: 0.240117\n",
      "[3000]\tvalid_0's multi_logloss: 0.239579\n",
      "[3050]\tvalid_0's multi_logloss: 0.239155\n",
      "[3100]\tvalid_0's multi_logloss: 0.238751\n",
      "[3150]\tvalid_0's multi_logloss: 0.238396\n",
      "[3200]\tvalid_0's multi_logloss: 0.237911\n",
      "[3250]\tvalid_0's multi_logloss: 0.237229\n",
      "[3300]\tvalid_0's multi_logloss: 0.236832\n",
      "[3350]\tvalid_0's multi_logloss: 0.236592\n",
      "[3400]\tvalid_0's multi_logloss: 0.236351\n",
      "[3450]\tvalid_0's multi_logloss: 0.236087\n",
      "[3500]\tvalid_0's multi_logloss: 0.235739\n",
      "[3550]\tvalid_0's multi_logloss: 0.235296\n",
      "[3600]\tvalid_0's multi_logloss: 0.235094\n",
      "[3650]\tvalid_0's multi_logloss: 0.234915\n",
      "[3700]\tvalid_0's multi_logloss: 0.234626\n",
      "[3750]\tvalid_0's multi_logloss: 0.234384\n",
      "[3800]\tvalid_0's multi_logloss: 0.234239\n",
      "[3850]\tvalid_0's multi_logloss: 0.234121\n",
      "[3900]\tvalid_0's multi_logloss: 0.233979\n",
      "[3950]\tvalid_0's multi_logloss: 0.233759\n",
      "[4000]\tvalid_0's multi_logloss: 0.233692\n",
      "[4050]\tvalid_0's multi_logloss: 0.233578\n",
      "[4100]\tvalid_0's multi_logloss: 0.233277\n",
      "[4150]\tvalid_0's multi_logloss: 0.233119\n",
      "[4200]\tvalid_0's multi_logloss: 0.233156\n",
      "[4250]\tvalid_0's multi_logloss: 0.233156\n",
      "[4300]\tvalid_0's multi_logloss: 0.23322\n",
      "[4350]\tvalid_0's multi_logloss: 0.233586\n",
      "[4400]\tvalid_0's multi_logloss: 0.233465\n",
      "[4450]\tvalid_0's multi_logloss: 0.233484\n",
      "[4500]\tvalid_0's multi_logloss: 0.233731\n",
      "[4550]\tvalid_0's multi_logloss: 0.233781\n",
      "[4600]\tvalid_0's multi_logloss: 0.233803\n",
      "[4650]\tvalid_0's multi_logloss: 0.233881\n",
      "[4700]\tvalid_0's multi_logloss: 0.233935\n",
      "Early stopping, best iteration is:\n",
      "[4223]\tvalid_0's multi_logloss: 0.233074\n",
      "score:0.9071428571428571\n",
      "f1_score0.8839273526627128\n"
     ]
    }
   ],
   "source": [
    "scores = []\n",
    "f1_scores = []\n",
    "best = 0\n",
    "i=0\n",
    "models = []\n",
    "best_f = -1\n",
    "\n",
    "clf = lgb.LGBMClassifier(\n",
    "    learning_rate=0.01,\n",
    "    n_estimators=20000,\n",
    "    num_leaves= 15,\n",
    "    max_depth = -1,\n",
    "    subsample=0.9,\n",
    "    colsample_bytree=0.8,\n",
    "    random_state=2019,\n",
    "    n_jobs=4\n",
    ") \n",
    "\n",
    "\n",
    "for train, test in kf.split(data,labels):\n",
    "#     train_data = lgb.Dataset(data.iloc[train])\n",
    "#     test_data = lgb.Dataset(data.iloc[test])\n",
    "    model=clf.fit(      \n",
    "            data.iloc[train],\n",
    "            labels[train],\n",
    "            eval_set=[(data.iloc[test],labels[test])],\n",
    "            early_stopping_rounds=500,\n",
    "            eval_metric='multiclass',\n",
    "            verbose=50)\n",
    "    \n",
    "    models.append(model)\n",
    "    label_pre = clf.predict(data.iloc[test])\n",
    "    score = accuracy_score(labels[test], label_pre)\n",
    "    f1 = f1_score(labels[test], label_pre, average='macro')\n",
    "    \n",
    "    # 保存f1分数结果最好的值\n",
    "    if f1 > best_f:\n",
    "        best = i  \n",
    "        best_f  = f1\n",
    "        best_model = model\n",
    "    \n",
    "    print('score:{}'.format(score))\n",
    "    print('f1_score{}'.format(f1))\n",
    "    scores.append(score)   \n",
    "    f1_scores.append(f1)\n",
    "    i += 1"
   ]
  },
  {
   "cell_type": "code",
   "execution_count": 94,
   "metadata": {
    "ExecuteTime": {
     "end_time": "2020-01-20T15:34:24.790771Z",
     "start_time": "2020-01-20T15:34:24.786775Z"
    }
   },
   "outputs": [
    {
     "name": "stdout",
     "output_type": "stream",
     "text": [
      "besf f1:0.8855039680618896.\n",
      "mean f1:0.8799335450067888\n",
      "mean scores:0.9065714285714286\n"
     ]
    }
   ],
   "source": [
    "print('besf f1:{}.'.format(best_f))\n",
    "print('mean f1:{}'.format(np.mean(f1_scores)))\n",
    "print('mean scores:{}'.format(np.mean(scores)))"
   ]
  },
  {
   "cell_type": "code",
   "execution_count": 95,
   "metadata": {
    "ExecuteTime": {
     "end_time": "2020-01-20T15:34:31.685870Z",
     "start_time": "2020-01-20T15:34:31.682868Z"
    }
   },
   "outputs": [
    {
     "data": {
      "text/plain": [
       "[0.871529124247764,\n",
       " 0.8773452089529626,\n",
       " 0.8855039680618896,\n",
       " 0.8813620711086149,\n",
       " 0.8839273526627128]"
      ]
     },
     "execution_count": 95,
     "metadata": {},
     "output_type": "execute_result"
    }
   ],
   "source": [
    "f1_scores"
   ]
  },
  {
   "cell_type": "code",
   "execution_count": 47,
   "metadata": {
    "ExecuteTime": {
     "end_time": "2020-01-20T15:01:52.712714Z",
     "start_time": "2020-01-20T15:01:52.622632Z"
    }
   },
   "outputs": [],
   "source": [
    "test_path  = './hy_round1_testA_20200102/'\n",
    "test_dir = os.listdir(test_path)"
   ]
  },
  {
   "cell_type": "code",
   "execution_count": 51,
   "metadata": {
    "ExecuteTime": {
     "end_time": "2020-01-20T15:04:40.316623Z",
     "start_time": "2020-01-20T15:04:32.505202Z"
    }
   },
   "outputs": [],
   "source": [
    "test_list = []\n",
    "for f in test_dir:\n",
    "    test = pd.read_csv(os.path.join(test_path,f))\n",
    "    test_list.append(test)\n",
    "\n",
    "test_df = pd.concat(test_list, ignore_index= True)"
   ]
  },
  {
   "cell_type": "code",
   "execution_count": 56,
   "metadata": {
    "ExecuteTime": {
     "end_time": "2020-01-20T15:06:44.968663Z",
     "start_time": "2020-01-20T15:06:43.430242Z"
    }
   },
   "outputs": [
    {
     "name": "stdout",
     "output_type": "stream",
     "text": [
      "=============================start to process speed======================================\n",
      "runtime:1.1220216751098633\n",
      "=============================start to process lng、lat======================================\n",
      "runtime:0.1110994815826416\n",
      "=============================start to process datetime======================================\n",
      "=============================start to process shift data======================================\n",
      "runtime:0.1110994815826416\n"
     ]
    }
   ],
   "source": [
    "test_data = get_feature(test_df)"
   ]
  },
  {
   "cell_type": "code",
   "execution_count": 97,
   "metadata": {
    "ExecuteTime": {
     "end_time": "2020-01-20T15:34:53.273788Z",
     "start_time": "2020-01-20T15:34:53.269784Z"
    }
   },
   "outputs": [],
   "source": [
    "test_data = test_data.rename(columns={'渔船ID':'shipID'})\n",
    "test_data.set_index(keys='shipID', inplace=True)"
   ]
  },
  {
   "cell_type": "code",
   "execution_count": 99,
   "metadata": {
    "ExecuteTime": {
     "end_time": "2020-01-20T15:35:09.397209Z",
     "start_time": "2020-01-20T15:35:08.154706Z"
    }
   },
   "outputs": [],
   "source": [
    "y = best_model.predict(test_data)"
   ]
  },
  {
   "cell_type": "code",
   "execution_count": 67,
   "metadata": {
    "ExecuteTime": {
     "end_time": "2020-01-20T15:10:02.243834Z",
     "start_time": "2020-01-20T15:10:02.240832Z"
    }
   },
   "outputs": [],
   "source": [
    "f = dict((test_data['shipID'], y))"
   ]
  },
  {
   "cell_type": "code",
   "execution_count": 69,
   "metadata": {
    "ExecuteTime": {
     "end_time": "2020-01-20T15:11:45.736948Z",
     "start_time": "2020-01-20T15:11:45.591817Z"
    }
   },
   "outputs": [],
   "source": [
    "sub = pd.DataFrame([f])"
   ]
  },
  {
   "cell_type": "code",
   "execution_count": 75,
   "metadata": {
    "ExecuteTime": {
     "end_time": "2020-01-20T15:14:05.241272Z",
     "start_time": "2020-01-20T15:14:05.238270Z"
    }
   },
   "outputs": [],
   "source": [
    "sub = sub.T"
   ]
  },
  {
   "cell_type": "code",
   "execution_count": 78,
   "metadata": {
    "ExecuteTime": {
     "end_time": "2020-01-20T15:15:43.302796Z",
     "start_time": "2020-01-20T15:15:43.294789Z"
    }
   },
   "outputs": [],
   "source": [
    "sub.to_csv('baseline.csv', encoding='utf-8-sig', header=False, sep=',')"
   ]
  },
  {
   "cell_type": "code",
   "execution_count": 100,
   "metadata": {
    "ExecuteTime": {
     "end_time": "2020-01-20T15:35:28.803524Z",
     "start_time": "2020-01-20T15:35:28.797518Z"
    }
   },
   "outputs": [],
   "source": [
    "scores = best_model.feature_importances_"
   ]
  },
  {
   "cell_type": "code",
   "execution_count": 101,
   "metadata": {
    "ExecuteTime": {
     "end_time": "2020-01-20T15:35:29.523906Z",
     "start_time": "2020-01-20T15:35:29.520903Z"
    }
   },
   "outputs": [],
   "source": [
    "import_feature = dict(zip(test_data.columns.values, scores))"
   ]
  },
  {
   "cell_type": "code",
   "execution_count": 102,
   "metadata": {
    "ExecuteTime": {
     "end_time": "2020-01-20T15:35:30.699256Z",
     "start_time": "2020-01-20T15:35:30.695254Z"
    }
   },
   "outputs": [
    {
     "data": {
      "text/plain": [
       "{'speed_avg': 10982,\n",
       " 'speed_min': 1505,\n",
       " 'speed_max': 8943,\n",
       " 'speed_median': 9449,\n",
       " 'direction_avg': 12444,\n",
       " 'direction_min': 774,\n",
       " 'direction_max': 4763,\n",
       " 'direction_median': 8556,\n",
       " 'x_avg': 8646,\n",
       " 'x_min': 12549,\n",
       " 'x_max': 10084,\n",
       " 'x_median': 13013,\n",
       " 'y_avg': 8709,\n",
       " 'y_min': 11188,\n",
       " 'y_max': 13332,\n",
       " 'y_median': 12333,\n",
       " 'width': 10769,\n",
       " 'height': 10249,\n",
       " 'area': 9078}"
      ]
     },
     "execution_count": 102,
     "metadata": {},
     "output_type": "execute_result"
    }
   ],
   "source": [
    "import_feature"
   ]
  },
  {
   "cell_type": "raw",
   "metadata": {},
   "source": [
    "{'shipID': 10109,\n",
    " 'speed_avg': 8877,\n",
    " 'speed_min': 1234,\n",
    " 'speed_max': 7277,\n",
    " 'speed_median': 8140,\n",
    " 'direction_avg': 9805,\n",
    " 'direction_min': 705,\n",
    " 'direction_max': 3697,\n",
    " 'direction_median': 6855,\n",
    " 'x_avg': 7213,\n",
    " 'x_min': 10699,\n",
    " 'x_max': 8321,\n",
    " 'x_median': 10655,\n",
    " 'y_avg': 6691,\n",
    " 'y_min': 9976,\n",
    " 'y_max': 11064,\n",
    " 'y_median': 10358,\n",
    " 'width': 9260,\n",
    " 'height': 7782,\n",
    " 'area': 7564}"
   ]
  },
  {
   "cell_type": "code",
   "execution_count": null,
   "metadata": {},
   "outputs": [],
   "source": []
  }
 ],
 "metadata": {
  "kernelspec": {
   "display_name": "Python 3",
   "language": "python",
   "name": "python3"
  },
  "language_info": {
   "codemirror_mode": {
    "name": "ipython",
    "version": 3
   },
   "file_extension": ".py",
   "mimetype": "text/x-python",
   "name": "python",
   "nbconvert_exporter": "python",
   "pygments_lexer": "ipython3",
   "version": "3.7.3"
  }
 },
 "nbformat": 4,
 "nbformat_minor": 2
}
