{
 "cells": [
  {
   "cell_type": "code",
   "execution_count": 51,
   "metadata": {
    "ExecuteTime": {
     "end_time": "2020-01-01T13:17:57.595977Z",
     "start_time": "2020-01-01T13:17:57.591973Z"
    }
   },
   "outputs": [],
   "source": [
    "import pandas as pd\n",
    "from matplotlib import pyplot as plt\n",
    "import seaborn as sns\n",
    "import warnings\n",
    "import gc\n",
    "import numpy as np\n",
    "import lightgbm as lgb\n",
    "import time,datetime\n",
    "from scipy.stats import entropy,kurtosis\n",
    "from sklearn.metrics import f1_score, auc\n",
    "warnings.filterwarnings('ignore')"
   ]
  },
  {
   "cell_type": "code",
   "execution_count": 2,
   "metadata": {
    "ExecuteTime": {
     "end_time": "2020-01-01T08:53:31.204000Z",
     "start_time": "2020-01-01T08:53:04.702190Z"
    }
   },
   "outputs": [],
   "source": [
    "train = pd.read_csv('dataset/train.csv')\n",
    "test = pd.read_csv('dataset/test.csv')\n",
    "# app = pd.read_csv('dataset/app.csv')\n",
    "# user = pd.read_csv('dataset/user.csv')"
   ]
  },
  {
   "cell_type": "code",
   "execution_count": 3,
   "metadata": {
    "ExecuteTime": {
     "end_time": "2020-01-01T08:54:02.562332Z",
     "start_time": "2020-01-01T08:54:02.551322Z"
    }
   },
   "outputs": [],
   "source": [
    "def reduce_mem(df):\n",
    "    start_mem = df.memory_usage().sum() / 1024 ** 2\n",
    "    for col in df.columns:\n",
    "        col_type = df[col].dtypes\n",
    "        if col_type != object:\n",
    "            c_min = df[col].min()\n",
    "            c_max = df[col].max()\n",
    "            if str(col_type)[:3] == 'int':\n",
    "                if c_min > np.iinfo(np.int8).min and c_max < np.iinfo(np.int8).max:\n",
    "                    df[col] = df[col].astype(np.int8)\n",
    "                elif c_min > np.iinfo(np.int16).min and c_max < np.iinfo(np.int16).max:\n",
    "                    df[col] = df[col].astype(np.int16)\n",
    "                elif c_min > np.iinfo(np.int32).min and c_max < np.iinfo(np.int32).max:\n",
    "                    df[col] = df[col].astype(np.int32)\n",
    "                elif c_min > np.iinfo(np.int64).min and c_max < np.iinfo(np.int64).max:\n",
    "                    df[col] = df[col].astype(np.int64)\n",
    "            else:\n",
    "                if c_min > np.finfo(np.float16).min and c_max < np.finfo(np.float16).max:\n",
    "                    df[col] = df[col].astype(np.float16)\n",
    "                elif c_min > np.finfo(np.float32).min and c_max < np.finfo(np.float32).max:\n",
    "                    df[col] = df[col].astype(np.float32)\n",
    "                else:\n",
    "                    df[col] = df[col].astype(np.float64)\n",
    "    end_mem = df.memory_usage().sum() / 1024 ** 2\n",
    "    print('{:.2f} Mb, {:.2f} Mb ({:.2f} %)'.format(start_mem, end_mem, 100 * (start_mem - end_mem) / start_mem))\n",
    "    gc.collect()\n",
    "    return df"
   ]
  },
  {
   "cell_type": "code",
   "execution_count": 102,
   "metadata": {
    "ExecuteTime": {
     "end_time": "2020-01-01T08:38:44.234515Z",
     "start_time": "2020-01-01T08:38:44.162449Z"
    }
   },
   "outputs": [
    {
     "name": "stdout",
     "output_type": "stream",
     "text": [
      "train: 2019-11-07 23:59:59 2019-11-10 23:59:59\n",
      "test: 2019-11-10 23:59:59 2019-11-11 23:59:59\n"
     ]
    }
   ],
   "source": [
    "print('train:',train['date'].min(), train['date'].max())\n",
    "print('test:', test['date'].min(), test['date'].max())"
   ]
  },
  {
   "cell_type": "code",
   "execution_count": 4,
   "metadata": {
    "ExecuteTime": {
     "end_time": "2020-01-01T08:54:06.043795Z",
     "start_time": "2020-01-01T08:54:04.379684Z"
    }
   },
   "outputs": [
    {
     "name": "stdout",
     "output_type": "stream",
     "text": [
      "before:2751646425216\n",
      "1301.96 Mb, 933.07 Mb (28.33 %)\n",
      "after:2751646425216\n",
      "362.37 Mb, 296.17 Mb (18.27 %)\n"
     ]
    }
   ],
   "source": [
    "print('before:{}'.format(id(train)))\n",
    "train = reduce_mem(train)\n",
    "print('after:{}'.format(id(train)))\n",
    "test = reduce_mem(test)"
   ]
  },
  {
   "cell_type": "code",
   "execution_count": 14,
   "metadata": {
    "ExecuteTime": {
     "end_time": "2020-01-01T09:08:41.302697Z",
     "start_time": "2020-01-01T09:08:41.204607Z"
    }
   },
   "outputs": [
    {
     "ename": "NameError",
     "evalue": "name 'train' is not defined",
     "output_type": "error",
     "traceback": [
      "\u001b[1;31m---------------------------------------------------------------------------\u001b[0m",
      "\u001b[1;31mNameError\u001b[0m                                 Traceback (most recent call last)",
      "\u001b[1;32m<ipython-input-14-b696de3481d1>\u001b[0m in \u001b[0;36m<module>\u001b[1;34m\u001b[0m\n\u001b[1;32m----> 1\u001b[1;33m \u001b[0mprint\u001b[0m\u001b[1;33m(\u001b[0m\u001b[1;34m'train deviceid'\u001b[0m\u001b[1;33m,\u001b[0m\u001b[0mlen\u001b[0m\u001b[1;33m(\u001b[0m\u001b[1;33m(\u001b[0m\u001b[0mset\u001b[0m\u001b[1;33m(\u001b[0m\u001b[0mtrain\u001b[0m\u001b[1;33m[\u001b[0m\u001b[1;34m'deviceid'\u001b[0m\u001b[1;33m]\u001b[0m\u001b[1;33m)\u001b[0m\u001b[1;33m)\u001b[0m\u001b[1;33m)\u001b[0m\u001b[1;33m)\u001b[0m\u001b[1;33m\u001b[0m\u001b[1;33m\u001b[0m\u001b[0m\n\u001b[0m\u001b[0;32m      2\u001b[0m \u001b[0mprint\u001b[0m\u001b[1;33m(\u001b[0m\u001b[1;34m'test deviceid'\u001b[0m\u001b[1;33m,\u001b[0m\u001b[0mlen\u001b[0m\u001b[1;33m(\u001b[0m\u001b[1;33m(\u001b[0m\u001b[0mset\u001b[0m\u001b[1;33m(\u001b[0m\u001b[0mtest\u001b[0m\u001b[1;33m[\u001b[0m\u001b[1;34m'deviceid'\u001b[0m\u001b[1;33m]\u001b[0m\u001b[1;33m)\u001b[0m\u001b[1;33m)\u001b[0m\u001b[1;33m)\u001b[0m\u001b[1;33m)\u001b[0m\u001b[1;33m\u001b[0m\u001b[1;33m\u001b[0m\u001b[0m\n\u001b[0;32m      3\u001b[0m \u001b[0mprint\u001b[0m\u001b[1;33m(\u001b[0m\u001b[1;34m'train&test deviceid'\u001b[0m\u001b[1;33m,\u001b[0m\u001b[0mlen\u001b[0m\u001b[1;33m(\u001b[0m\u001b[1;33m(\u001b[0m\u001b[0mset\u001b[0m\u001b[1;33m(\u001b[0m\u001b[0mtrain\u001b[0m\u001b[1;33m[\u001b[0m\u001b[1;34m'deviceid'\u001b[0m\u001b[1;33m]\u001b[0m\u001b[1;33m)\u001b[0m\u001b[1;33m&\u001b[0m\u001b[0mset\u001b[0m\u001b[1;33m(\u001b[0m\u001b[0mtest\u001b[0m\u001b[1;33m[\u001b[0m\u001b[1;34m'deviceid'\u001b[0m\u001b[1;33m]\u001b[0m\u001b[1;33m)\u001b[0m\u001b[1;33m)\u001b[0m\u001b[1;33m)\u001b[0m\u001b[1;33m/\u001b[0m\u001b[0mlen\u001b[0m\u001b[1;33m(\u001b[0m\u001b[0mset\u001b[0m\u001b[1;33m(\u001b[0m\u001b[0mtest\u001b[0m\u001b[1;33m[\u001b[0m\u001b[1;34m'deviceid'\u001b[0m\u001b[1;33m]\u001b[0m\u001b[1;33m)\u001b[0m\u001b[1;33m)\u001b[0m\u001b[1;33m)\u001b[0m\u001b[1;33m\u001b[0m\u001b[1;33m\u001b[0m\u001b[0m\n\u001b[0;32m      4\u001b[0m \u001b[0mprint\u001b[0m\u001b[1;33m(\u001b[0m\u001b[1;34m'train guid'\u001b[0m\u001b[1;33m,\u001b[0m\u001b[0mlen\u001b[0m\u001b[1;33m(\u001b[0m\u001b[1;33m(\u001b[0m\u001b[0mset\u001b[0m\u001b[1;33m(\u001b[0m\u001b[0mtrain\u001b[0m\u001b[1;33m[\u001b[0m\u001b[1;34m'guid'\u001b[0m\u001b[1;33m]\u001b[0m\u001b[1;33m)\u001b[0m\u001b[1;33m)\u001b[0m\u001b[1;33m)\u001b[0m\u001b[1;33m)\u001b[0m\u001b[1;33m\u001b[0m\u001b[1;33m\u001b[0m\u001b[0m\n\u001b[0;32m      5\u001b[0m \u001b[0mprint\u001b[0m\u001b[1;33m(\u001b[0m\u001b[1;34m'test guid'\u001b[0m\u001b[1;33m,\u001b[0m\u001b[0mlen\u001b[0m\u001b[1;33m(\u001b[0m\u001b[1;33m(\u001b[0m\u001b[0mset\u001b[0m\u001b[1;33m(\u001b[0m\u001b[0mtest\u001b[0m\u001b[1;33m[\u001b[0m\u001b[1;34m'guid'\u001b[0m\u001b[1;33m]\u001b[0m\u001b[1;33m)\u001b[0m\u001b[1;33m)\u001b[0m\u001b[1;33m)\u001b[0m\u001b[1;33m)\u001b[0m\u001b[1;33m\u001b[0m\u001b[1;33m\u001b[0m\u001b[0m\n",
      "\u001b[1;31mNameError\u001b[0m: name 'train' is not defined"
     ]
    }
   ],
   "source": [
    "print('train deviceid',len((set(train['deviceid']))))\n",
    "print('test deviceid',len((set(test['deviceid']))))\n",
    "print('train&test deviceid',len((set(train['deviceid'])&set(test['deviceid'])))/len(set(test['deviceid'])))\n",
    "print('train guid',len((set(train['guid']))))\n",
    "print('test guid',len((set(test['guid']))))\n",
    "print('train&test guid',len((set(train['guid'])&set(test['guid'])))/len(set(test['guid'])))"
   ]
  },
  {
   "cell_type": "code",
   "execution_count": 101,
   "metadata": {
    "ExecuteTime": {
     "end_time": "2020-01-01T08:38:44.161448Z",
     "start_time": "2020-01-01T08:38:36.687787Z"
    }
   },
   "outputs": [
    {
     "name": "stdout",
     "output_type": "stream",
     "text": [
      "train deviceid ratio:0.4471528414298808\n",
      "test deviceid ratio:0.8262557117905471\n",
      "train guid ratio:0.44716436793727776\n",
      "test guid ratio:0.8204920771706442\n"
     ]
    }
   ],
   "source": [
    "print('train deviceid ratio:{}'.format(len((set(train['deviceid'])&set(test['deviceid'])))/len(set(train['deviceid']))))\n",
    "print('test deviceid ratio:{}'.format(len((set(train['deviceid'])&set(test['deviceid'])))/len(set(test['deviceid']))))\n",
    "print('train guid ratio:{}'.format(len((set(train['guid'])&set(test['guid'])))/len(set(train['guid']))))\n",
    "print('test guid ratio:{}'.format(len((set(train['guid'])&set(test['guid'])))/len(set(test['guid']))))"
   ]
  },
  {
   "cell_type": "code",
   "execution_count": 18,
   "metadata": {
    "ExecuteTime": {
     "end_time": "2020-01-01T02:21:04.904209Z",
     "start_time": "2020-01-01T02:20:55.245456Z"
    }
   },
   "outputs": [
    {
     "name": "stdout",
     "output_type": "stream",
     "text": [
      "data size:15030273\n",
      "8: 3674871, ratio: 24.44979542287755%\n",
      "9: 3743690, ratio: 24.907664684467143%\n",
      "10: 3958141, ratio: 26.334458462597453%\n",
      "11: 3653560, ratio: 24.30800824442776%\n"
     ]
    }
   ],
   "source": [
    "print('data size:{}'.format(len(data)))\n",
    "print('8: {}, ratio: {}%'.format(len(data[data['day']==8]),len(data[data['day']==8])/len(data)*100))\n",
    "print('9: {}, ratio: {}%'.format(len(data[data['day']==9]),len(data[data['day']==9])/len(data)*100))\n",
    "print('10: {}, ratio: {}%'.format(len(data[data['day']==10]),len(data[data['day']==10])/len(data)*100))\n",
    "print('11: {}, ratio: {}%'.format(len(data[data['day']==11]),len(data[data['day']==11])/len(data)*100))"
   ]
  },
  {
   "cell_type": "code",
   "execution_count": 5,
   "metadata": {
    "ExecuteTime": {
     "end_time": "2020-01-01T08:54:11.254610Z",
     "start_time": "2020-01-01T08:54:11.251606Z"
    },
    "code_folding": []
   },
   "outputs": [],
   "source": [
    "def transform_time(x):    \n",
    "    try:\n",
    "        date_style = time.localtime(x/1000)\n",
    "        date_style = time.strftime('%Y-%m-%d %H:%M:%S',date_style)\n",
    "        return date_style\n",
    "    except:\n",
    "        return np.nan"
   ]
  },
  {
   "cell_type": "code",
   "execution_count": 6,
   "metadata": {
    "ExecuteTime": {
     "end_time": "2020-01-01T08:55:31.325052Z",
     "start_time": "2020-01-01T08:54:12.044615Z"
    }
   },
   "outputs": [],
   "source": [
    "train['date'] = train['ts'].apply(transform_time)\n",
    "test['date'] = test['ts'].apply(transform_time)"
   ]
  },
  {
   "cell_type": "code",
   "execution_count": 7,
   "metadata": {
    "ExecuteTime": {
     "end_time": "2020-01-01T08:55:51.341814Z",
     "start_time": "2020-01-01T08:55:42.026533Z"
    }
   },
   "outputs": [],
   "source": [
    "train['date'] = pd.to_datetime(train['date'])\n",
    "test['date'] = pd.to_datetime(test['date'])"
   ]
  },
  {
   "cell_type": "code",
   "execution_count": 8,
   "metadata": {
    "ExecuteTime": {
     "end_time": "2020-01-01T08:56:20.663560Z",
     "start_time": "2020-01-01T08:56:17.547183Z"
    }
   },
   "outputs": [],
   "source": [
    "# 年月都是一样，增加天的时间特征\n",
    "train['day'] = train['date'].dt.day\n",
    "test['day'] = test['date'].dt.day\n",
    "train['hour'] = train['date'].dt.hour\n",
    "test['hour'] = test['date'].dt.hour\n",
    "train['minute'] = train['date'].dt.minute\n",
    "test['minute'] = test['date'].dt.minute\n",
    "train['second'] = train['date'].dt.second\n",
    "test['second'] = test['date'].dt.second\n",
    "train['flag'] = train['day']\n",
    "train[train['day']==7]['flag'] = 8\n",
    "test['flag'] = 11"
   ]
  },
  {
   "cell_type": "code",
   "execution_count": 9,
   "metadata": {
    "ExecuteTime": {
     "end_time": "2020-01-01T08:56:52.885274Z",
     "start_time": "2020-01-01T08:56:52.817212Z"
    }
   },
   "outputs": [
    {
     "name": "stdout",
     "output_type": "stream",
     "text": [
      "2019-11-10 23:59:59\n",
      "2019-11-07 23:59:59\n"
     ]
    }
   ],
   "source": [
    "print(train['date'].max())\n",
    "print(train['date'].min())"
   ]
  },
  {
   "cell_type": "code",
   "execution_count": 10,
   "metadata": {
    "ExecuteTime": {
     "end_time": "2020-01-01T08:57:10.212877Z",
     "start_time": "2020-01-01T08:57:06.631624Z"
    }
   },
   "outputs": [
    {
     "data": {
      "text/plain": [
       "145"
      ]
     },
     "execution_count": 10,
     "metadata": {},
     "output_type": "execute_result"
    }
   ],
   "source": [
    "# 将测试机和训练集进行融合，从上往下进行合并\n",
    "data = pd.concat([train,test],axis=0,sort=False)\n",
    "# 删除原始数据，减少累存占用\n",
    "del train,test\n",
    "gc.collect()"
   ]
  },
  {
   "cell_type": "code",
   "execution_count": 12,
   "metadata": {
    "ExecuteTime": {
     "end_time": "2020-01-01T09:06:49.699101Z",
     "start_time": "2020-01-01T09:06:47.326948Z"
    }
   },
   "outputs": [
    {
     "name": "stdout",
     "output_type": "stream",
     "text": [
      "(11376681, 21)\n"
     ]
    },
    {
     "data": {
      "text/plain": [
       "8909"
      ]
     },
     "execution_count": 12,
     "metadata": {},
     "output_type": "execute_result"
    }
   ],
   "source": [
    "# 构建点击特征\n",
    "click_data = data[data['flag']!=11]\n",
    "print(click_data.shape)\n",
    "click_data['total_hour'] = click_data['hour'] + 24*(click_data['day']-8)\n",
    "# click_data['timestamp'] = click_data['timestamp'].apply(lambda x: time.strftime('%Y-%m-%d %H:%M:%S',time.localtime(x/1000)))\n",
    "click_data['exposure_click_gap'] = click_data['timestamp'] - click_data['ts'] # 从点击到曝光时间差\n",
    "# 回收内存\n",
    "del data['date']\n",
    "gc.collect()"
   ]
  },
  {
   "cell_type": "code",
   "execution_count": 15,
   "metadata": {
    "ExecuteTime": {
     "end_time": "2020-01-01T09:09:16.300642Z",
     "start_time": "2020-01-01T09:09:13.906467Z"
    }
   },
   "outputs": [
    {
     "name": "stdout",
     "output_type": "stream",
     "text": [
      "2078.43 Mb, 1490.73 Mb (28.28 %)\n"
     ]
    }
   ],
   "source": [
    "data = reduce_mem(data)"
   ]
  },
  {
   "cell_type": "code",
   "execution_count": 16,
   "metadata": {
    "ExecuteTime": {
     "end_time": "2020-01-01T09:38:10.712737Z",
     "start_time": "2020-01-01T09:38:05.561059Z"
    }
   },
   "outputs": [],
   "source": [
    "click_data = click_data.sort_values('timestamp').reset_index(drop=True)"
   ]
  },
  {
   "cell_type": "code",
   "execution_count": 17,
   "metadata": {
    "ExecuteTime": {
     "end_time": "2020-01-01T02:20:46.791005Z",
     "start_time": "2020-01-01T02:20:46.106391Z"
    }
   },
   "outputs": [],
   "source": [
    "data['guid'] = data['guid'].fillna('null')"
   ]
  },
  {
   "cell_type": "code",
   "execution_count": 24,
   "metadata": {
    "ExecuteTime": {
     "end_time": "2020-01-01T09:43:59.037580Z",
     "start_time": "2020-01-01T09:43:59.034577Z"
    }
   },
   "outputs": [
    {
     "data": {
      "text/plain": [
       "range(0, 2)"
      ]
     },
     "execution_count": 24,
     "metadata": {},
     "output_type": "execute_result"
    }
   ],
   "source": [
    "range(2)"
   ]
  },
  {
   "cell_type": "code",
   "execution_count": 34,
   "metadata": {
    "ExecuteTime": {
     "end_time": "2020-01-01T09:51:41.021167Z",
     "start_time": "2020-01-01T09:51:24.157852Z"
    }
   },
   "outputs": [
    {
     "name": "stdout",
     "output_type": "stream",
     "text": [
      "deviceid\n",
      "newsid\n",
      "guid\n",
      "pos\n",
      "app_version\n",
      "device_vendor\n",
      "netmodel\n",
      "osversion\n",
      "device_version\n",
      "1075.05 Mb, 845.71 Mb (21.33 %)\n",
      "1280.26 Mb, 607.58 Mb (52.54 %)\n"
     ]
    }
   ],
   "source": [
    "# 处理其他特征 对其进行简单的地址映射\n",
    "cate_cols = [\n",
    "    'deviceid', 'newsid', 'guid', 'pos', 'app_version', 'device_vendor',\n",
    "    'netmodel', 'osversion', 'device_version'\n",
    "]\n",
    "\n",
    "for f in cate_cols:\n",
    "    print(f)\n",
    "    map_dict = dict(zip(data[f].unique(), range(data[f].nunique())))\n",
    "    click_data[f] = click_data[f].map(map_dict).fillna(-1).astype('int32')\n",
    "    data[f] = data[f].map(map_dict).fillna(-1).astype('int32')\n",
    "data = reduce_mem(data)\n",
    "click_data = reduce_mem(click_data)"
   ]
  },
  {
   "cell_type": "code",
   "execution_count": 37,
   "metadata": {
    "ExecuteTime": {
     "end_time": "2020-01-01T09:53:43.401738Z",
     "start_time": "2020-01-01T09:53:37.549422Z"
    }
   },
   "outputs": [
    {
     "data": {
      "text/html": [
       "<div>\n",
       "<style scoped>\n",
       "    .dataframe tbody tr th:only-of-type {\n",
       "        vertical-align: middle;\n",
       "    }\n",
       "\n",
       "    .dataframe tbody tr th {\n",
       "        vertical-align: top;\n",
       "    }\n",
       "\n",
       "    .dataframe thead th {\n",
       "        text-align: right;\n",
       "    }\n",
       "</style>\n",
       "<table border=\"1\" class=\"dataframe\">\n",
       "  <thead>\n",
       "    <tr style=\"text-align: right;\">\n",
       "      <th></th>\n",
       "      <th>id</th>\n",
       "      <th>target</th>\n",
       "      <th>timestamp</th>\n",
       "      <th>deviceid</th>\n",
       "      <th>newsid</th>\n",
       "      <th>guid</th>\n",
       "      <th>pos</th>\n",
       "      <th>app_version</th>\n",
       "      <th>device_vendor</th>\n",
       "      <th>netmodel</th>\n",
       "      <th>osversion</th>\n",
       "      <th>lng</th>\n",
       "      <th>lat</th>\n",
       "      <th>device_version</th>\n",
       "      <th>ts</th>\n",
       "      <th>day</th>\n",
       "      <th>hour</th>\n",
       "      <th>minute</th>\n",
       "      <th>second</th>\n",
       "      <th>flag</th>\n",
       "    </tr>\n",
       "  </thead>\n",
       "  <tbody>\n",
       "    <tr>\n",
       "      <th>0</th>\n",
       "      <td>6176945</td>\n",
       "      <td>0.0</td>\n",
       "      <td>NaN</td>\n",
       "      <td>78814</td>\n",
       "      <td>1962</td>\n",
       "      <td>75987</td>\n",
       "      <td>0</td>\n",
       "      <td>0</td>\n",
       "      <td>2</td>\n",
       "      <td>1</td>\n",
       "      <td>0</td>\n",
       "      <td>277</td>\n",
       "      <td>1164</td>\n",
       "      <td>45</td>\n",
       "      <td>1573142399626</td>\n",
       "      <td>7</td>\n",
       "      <td>23</td>\n",
       "      <td>59</td>\n",
       "      <td>59</td>\n",
       "      <td>7</td>\n",
       "    </tr>\n",
       "    <tr>\n",
       "      <th>1</th>\n",
       "      <td>3148710</td>\n",
       "      <td>0.0</td>\n",
       "      <td>NaN</td>\n",
       "      <td>78814</td>\n",
       "      <td>1216</td>\n",
       "      <td>75987</td>\n",
       "      <td>2</td>\n",
       "      <td>0</td>\n",
       "      <td>2</td>\n",
       "      <td>1</td>\n",
       "      <td>0</td>\n",
       "      <td>277</td>\n",
       "      <td>1164</td>\n",
       "      <td>45</td>\n",
       "      <td>1573142399631</td>\n",
       "      <td>7</td>\n",
       "      <td>23</td>\n",
       "      <td>59</td>\n",
       "      <td>59</td>\n",
       "      <td>7</td>\n",
       "    </tr>\n",
       "    <tr>\n",
       "      <th>2</th>\n",
       "      <td>5419483</td>\n",
       "      <td>0.0</td>\n",
       "      <td>NaN</td>\n",
       "      <td>78814</td>\n",
       "      <td>903</td>\n",
       "      <td>75987</td>\n",
       "      <td>1</td>\n",
       "      <td>0</td>\n",
       "      <td>2</td>\n",
       "      <td>1</td>\n",
       "      <td>0</td>\n",
       "      <td>277</td>\n",
       "      <td>1164</td>\n",
       "      <td>45</td>\n",
       "      <td>1573142399645</td>\n",
       "      <td>7</td>\n",
       "      <td>23</td>\n",
       "      <td>59</td>\n",
       "      <td>59</td>\n",
       "      <td>7</td>\n",
       "    </tr>\n",
       "    <tr>\n",
       "      <th>3</th>\n",
       "      <td>9074543</td>\n",
       "      <td>0.0</td>\n",
       "      <td>NaN</td>\n",
       "      <td>75020</td>\n",
       "      <td>10115</td>\n",
       "      <td>72333</td>\n",
       "      <td>2</td>\n",
       "      <td>2</td>\n",
       "      <td>7</td>\n",
       "      <td>2</td>\n",
       "      <td>2</td>\n",
       "      <td>430</td>\n",
       "      <td>651</td>\n",
       "      <td>162</td>\n",
       "      <td>1573142399650</td>\n",
       "      <td>7</td>\n",
       "      <td>23</td>\n",
       "      <td>59</td>\n",
       "      <td>59</td>\n",
       "      <td>7</td>\n",
       "    </tr>\n",
       "    <tr>\n",
       "      <th>4</th>\n",
       "      <td>8090764</td>\n",
       "      <td>0.0</td>\n",
       "      <td>NaN</td>\n",
       "      <td>52006</td>\n",
       "      <td>972186</td>\n",
       "      <td>50180</td>\n",
       "      <td>1</td>\n",
       "      <td>0</td>\n",
       "      <td>33</td>\n",
       "      <td>2</td>\n",
       "      <td>5</td>\n",
       "      <td>2</td>\n",
       "      <td>2</td>\n",
       "      <td>583</td>\n",
       "      <td>1573142399767</td>\n",
       "      <td>7</td>\n",
       "      <td>23</td>\n",
       "      <td>59</td>\n",
       "      <td>59</td>\n",
       "      <td>7</td>\n",
       "    </tr>\n",
       "    <tr>\n",
       "      <th>...</th>\n",
       "      <td>...</td>\n",
       "      <td>...</td>\n",
       "      <td>...</td>\n",
       "      <td>...</td>\n",
       "      <td>...</td>\n",
       "      <td>...</td>\n",
       "      <td>...</td>\n",
       "      <td>...</td>\n",
       "      <td>...</td>\n",
       "      <td>...</td>\n",
       "      <td>...</td>\n",
       "      <td>...</td>\n",
       "      <td>...</td>\n",
       "      <td>...</td>\n",
       "      <td>...</td>\n",
       "      <td>...</td>\n",
       "      <td>...</td>\n",
       "      <td>...</td>\n",
       "      <td>...</td>\n",
       "      <td>...</td>\n",
       "    </tr>\n",
       "    <tr>\n",
       "      <th>15030268</th>\n",
       "      <td>test_3609640</td>\n",
       "      <td>NaN</td>\n",
       "      <td>NaN</td>\n",
       "      <td>71873</td>\n",
       "      <td>3513</td>\n",
       "      <td>69293</td>\n",
       "      <td>3</td>\n",
       "      <td>0</td>\n",
       "      <td>3</td>\n",
       "      <td>2</td>\n",
       "      <td>9</td>\n",
       "      <td>189</td>\n",
       "      <td>397</td>\n",
       "      <td>41</td>\n",
       "      <td>1573487999641</td>\n",
       "      <td>11</td>\n",
       "      <td>23</td>\n",
       "      <td>59</td>\n",
       "      <td>59</td>\n",
       "      <td>11</td>\n",
       "    </tr>\n",
       "    <tr>\n",
       "      <th>15030269</th>\n",
       "      <td>test_1587182</td>\n",
       "      <td>NaN</td>\n",
       "      <td>NaN</td>\n",
       "      <td>12939</td>\n",
       "      <td>38584</td>\n",
       "      <td>12502</td>\n",
       "      <td>2</td>\n",
       "      <td>0</td>\n",
       "      <td>0</td>\n",
       "      <td>2</td>\n",
       "      <td>0</td>\n",
       "      <td>437</td>\n",
       "      <td>343</td>\n",
       "      <td>10</td>\n",
       "      <td>1573487999651</td>\n",
       "      <td>11</td>\n",
       "      <td>23</td>\n",
       "      <td>59</td>\n",
       "      <td>59</td>\n",
       "      <td>11</td>\n",
       "    </tr>\n",
       "    <tr>\n",
       "      <th>15030270</th>\n",
       "      <td>test_3609632</td>\n",
       "      <td>NaN</td>\n",
       "      <td>NaN</td>\n",
       "      <td>71873</td>\n",
       "      <td>604610</td>\n",
       "      <td>69293</td>\n",
       "      <td>2</td>\n",
       "      <td>0</td>\n",
       "      <td>3</td>\n",
       "      <td>2</td>\n",
       "      <td>9</td>\n",
       "      <td>189</td>\n",
       "      <td>397</td>\n",
       "      <td>41</td>\n",
       "      <td>1573487999666</td>\n",
       "      <td>11</td>\n",
       "      <td>23</td>\n",
       "      <td>59</td>\n",
       "      <td>59</td>\n",
       "      <td>11</td>\n",
       "    </tr>\n",
       "    <tr>\n",
       "      <th>15030271</th>\n",
       "      <td>test_475380</td>\n",
       "      <td>NaN</td>\n",
       "      <td>NaN</td>\n",
       "      <td>110368</td>\n",
       "      <td>1405</td>\n",
       "      <td>109896</td>\n",
       "      <td>2</td>\n",
       "      <td>4</td>\n",
       "      <td>3</td>\n",
       "      <td>0</td>\n",
       "      <td>1</td>\n",
       "      <td>283</td>\n",
       "      <td>686</td>\n",
       "      <td>3</td>\n",
       "      <td>1573487999684</td>\n",
       "      <td>11</td>\n",
       "      <td>23</td>\n",
       "      <td>59</td>\n",
       "      <td>59</td>\n",
       "      <td>11</td>\n",
       "    </tr>\n",
       "    <tr>\n",
       "      <th>15030272</th>\n",
       "      <td>test_2668417</td>\n",
       "      <td>NaN</td>\n",
       "      <td>NaN</td>\n",
       "      <td>110368</td>\n",
       "      <td>4168</td>\n",
       "      <td>109896</td>\n",
       "      <td>0</td>\n",
       "      <td>4</td>\n",
       "      <td>3</td>\n",
       "      <td>0</td>\n",
       "      <td>1</td>\n",
       "      <td>283</td>\n",
       "      <td>686</td>\n",
       "      <td>3</td>\n",
       "      <td>1573487999696</td>\n",
       "      <td>11</td>\n",
       "      <td>23</td>\n",
       "      <td>59</td>\n",
       "      <td>59</td>\n",
       "      <td>11</td>\n",
       "    </tr>\n",
       "  </tbody>\n",
       "</table>\n",
       "<p>15030273 rows × 20 columns</p>\n",
       "</div>"
      ],
      "text/plain": [
       "                    id  target  timestamp  deviceid  newsid    guid  pos  \\\n",
       "0              6176945     0.0        NaN     78814    1962   75987    0   \n",
       "1              3148710     0.0        NaN     78814    1216   75987    2   \n",
       "2              5419483     0.0        NaN     78814     903   75987    1   \n",
       "3              9074543     0.0        NaN     75020   10115   72333    2   \n",
       "4              8090764     0.0        NaN     52006  972186   50180    1   \n",
       "...                ...     ...        ...       ...     ...     ...  ...   \n",
       "15030268  test_3609640     NaN        NaN     71873    3513   69293    3   \n",
       "15030269  test_1587182     NaN        NaN     12939   38584   12502    2   \n",
       "15030270  test_3609632     NaN        NaN     71873  604610   69293    2   \n",
       "15030271   test_475380     NaN        NaN    110368    1405  109896    2   \n",
       "15030272  test_2668417     NaN        NaN    110368    4168  109896    0   \n",
       "\n",
       "          app_version  device_vendor  netmodel  osversion  lng   lat  \\\n",
       "0                   0              2         1          0  277  1164   \n",
       "1                   0              2         1          0  277  1164   \n",
       "2                   0              2         1          0  277  1164   \n",
       "3                   2              7         2          2  430   651   \n",
       "4                   0             33         2          5    2     2   \n",
       "...               ...            ...       ...        ...  ...   ...   \n",
       "15030268            0              3         2          9  189   397   \n",
       "15030269            0              0         2          0  437   343   \n",
       "15030270            0              3         2          9  189   397   \n",
       "15030271            4              3         0          1  283   686   \n",
       "15030272            4              3         0          1  283   686   \n",
       "\n",
       "          device_version             ts  day  hour  minute  second  flag  \n",
       "0                     45  1573142399626    7    23      59      59     7  \n",
       "1                     45  1573142399631    7    23      59      59     7  \n",
       "2                     45  1573142399645    7    23      59      59     7  \n",
       "3                    162  1573142399650    7    23      59      59     7  \n",
       "4                    583  1573142399767    7    23      59      59     7  \n",
       "...                  ...            ...  ...   ...     ...     ...   ...  \n",
       "15030268              41  1573487999641   11    23      59      59    11  \n",
       "15030269              10  1573487999651   11    23      59      59    11  \n",
       "15030270              41  1573487999666   11    23      59      59    11  \n",
       "15030271               3  1573487999684   11    23      59      59    11  \n",
       "15030272               3  1573487999696   11    23      59      59    11  \n",
       "\n",
       "[15030273 rows x 20 columns]"
      ]
     },
     "execution_count": 37,
     "metadata": {},
     "output_type": "execute_result"
    }
   ],
   "source": [
    "sort_data = data.sort_values('ts').reset_index(drop=True)"
   ]
  },
  {
   "cell_type": "code",
   "execution_count": 80,
   "metadata": {
    "ExecuteTime": {
     "end_time": "2020-01-01T14:36:39.489662Z",
     "start_time": "2020-01-01T14:34:29.447556Z"
    },
    "scrolled": true
   },
   "outputs": [
    {
     "name": "stdout",
     "output_type": "stream",
     "text": [
      "exposure click gap stas\n"
     ]
    }
   ],
   "source": [
    "mode_cols = []\n",
    "# for f in ['deviceid']:\n",
    "f = 'deviceid'\n",
    "    # 对样本反应时间进行统计\n",
    "print('exposure click gap stas')\n",
    "# as_index表示保留 deviceid和day数据\n",
    "tmp = click_data.groupby([f,'day'], as_index=False)['exposure_click_gap'].agg({\n",
    "    f + '_prev_day_exposure_click_gap_max':'max',   #反应最大时间\n",
    "    f + '_prev_day_exposure_click_gap_min':'min',   #反应最小时间\n",
    "    f + '_prev_day_exposure_click_gap_median':'median',\n",
    "    f + '_prev_day_exposure_click_gap_std':'std',\n",
    "    f + '_pre_day_exposure_click_gap_skew':'skew', # 不对称度\n",
    "    f + '_prev_day_exposure_click_gap_kurt':kurtosis, #峰值\n",
    "    f + '_prev_day_exposure_click_gap_mean': 'mean',\n",
    "    f + '_prev_day_exposure_click_gap_q1': lambda x: np.quantile(x, q=0.25), #分位数\n",
    "    f + '_prev_day_exposure_click_gap_q3': lambda x: np.quantile(x, q=0.75)\n",
    "})\n",
    "#最大反应时间-最小反应时间\n",
    "tmp[f+ '_prev_day_exposure_click_gap_ptp'] = tmp[f + '_prev_day_exposure_click_gap_max'] - tmp[f + '_prev_day_exposure_click_gap_min']\n",
    "#最大分位数-最小分位数\n",
    "tmp[f + '_prev_day_exposure_click_gap_iqr'] = tmp[f + '_prev_day_exposure_click_gap_q3'] - tmp[f + '_prev_day_exposure_click_gap_q1']\n",
    "tmp[f + '_prev_day_exposure_click_gap_mean_ratio_std'] = tmp[f + '_prev_day_exposure_click_gap_mean'] / tmp[f + '_prev_day_exposure_click_gap_std']\n",
    "tmp[f + '_prev_day_exposure_click_gap_mean_ratio_ptp'] = tmp[f + '_prev_day_exposure_click_gap_mean'] / tmp[f + '_prev_day_exposure_click_gap_ptp']\n",
    "tmp[f + '_prev_day_exposure_click_gap_mean_ratio_iqr'] = tmp[f + '_prev_day_exposure_click_gap_mean'] / tmp[f + '_prev_day_exposure_click_gap_iqr']"
   ]
  },
  {
   "cell_type": "code",
   "execution_count": 82,
   "metadata": {
    "ExecuteTime": {
     "end_time": "2020-01-01T14:38:19.970304Z",
     "start_time": "2020-01-01T14:38:05.532191Z"
    }
   },
   "outputs": [
    {
     "name": "stdout",
     "output_type": "stream",
     "text": [
      "tmp1:2753546862152\n",
      "2623.12 Mb, 2680.46 Mb (-2.19 %)\n"
     ]
    }
   ],
   "source": [
    "# 构建历史特征,将前一天统计量放置第二天\n",
    "tmp['day'] += 1\n",
    "data = data.merge(tmp, on=[f,'day'],how='left')\n",
    "print('tmp1:{}'.format(id(tmp)))\n",
    "# 优化内存\n",
    "data = reduce_mem(data)\n",
    "del tmp\n",
    "gc.collect()"
   ]
  },
  {
   "cell_type": "code",
   "execution_count": 89,
   "metadata": {
    "ExecuteTime": {
     "end_time": "2020-01-01T14:46:52.077839Z",
     "start_time": "2020-01-01T14:46:45.427799Z"
    }
   },
   "outputs": [],
   "source": [
    "# 对前一天点击次数进行统计\n",
    "tmp = click_data.groupby([f,'day'], as_index=False)['id'].agg({f + '_prev_day_click_count':'count'})\n",
    "tmp['day'] += 1\n",
    "data = data.merge(tmp,on=[f, 'day'], how='left')\n",
    "data[f + '_prev_day_click_count'] = data[f + '_prev_day_click_count'].fillna(0)"
   ]
  },
  {
   "cell_type": "code",
   "execution_count": 90,
   "metadata": {
    "ExecuteTime": {
     "end_time": "2020-01-01T15:02:50.631351Z",
     "start_time": "2020-01-01T15:02:50.254009Z"
    }
   },
   "outputs": [
    {
     "data": {
      "text/plain": [
       "384"
      ]
     },
     "execution_count": 90,
     "metadata": {},
     "output_type": "execute_result"
    }
   ],
   "source": [
    "# 对前一个小时进行统计、暂时确实\n",
    "tmp = click_data.groupby([f,'hour'], as_index=False)['id'].agg({f + '_prev_day_click_count':'count'})\n",
    "tmp['day'] += 1\n",
    "data = data.merge(tmp,on=[f, 'day'], how='left')\n",
    "data[f + '_prev_day_click_count'] = data[f + '_prev_day_click_count'].fillna(0)\n",
    "del tmp\n",
    "gc.collect()"
   ]
  },
  {
   "cell_type": "code",
   "execution_count": 94,
   "metadata": {
    "ExecuteTime": {
     "end_time": "2020-01-01T15:11:01.617617Z",
     "start_time": "2020-01-01T15:10:49.750839Z"
    }
   },
   "outputs": [],
   "source": [
    "# 对前一天曝光量进行统计\n",
    "tmp = data.groupby([f,'day'], as_index=False)['id'].agg({f + '_prev_day_count':'count'})\n",
    "tmp['day'] += 1\n",
    "data = data.merge(tmp,on=[f, 'day'], how='left')\n",
    "data[f + '_prev_day_count'] = data[f + '_prev_day_count'].fillna(0)"
   ]
  },
  {
   "cell_type": "code",
   "execution_count": 95,
   "metadata": {
    "ExecuteTime": {
     "end_time": "2020-01-01T15:17:53.992356Z",
     "start_time": "2020-01-01T15:17:53.989353Z"
    }
   },
   "outputs": [
    {
     "data": {
      "text/plain": [
       "15030273"
      ]
     },
     "execution_count": 95,
     "metadata": {},
     "output_type": "execute_result"
    }
   ],
   "source": [
    "# 计算前一天的点击率"
   ]
  },
  {
   "cell_type": "code",
   "execution_count": 93,
   "metadata": {
    "ExecuteTime": {
     "end_time": "2020-01-01T15:10:30.512233Z",
     "start_time": "2020-01-01T15:10:30.504226Z"
    }
   },
   "outputs": [
    {
     "data": {
      "text/html": [
       "<div>\n",
       "<style scoped>\n",
       "    .dataframe tbody tr th:only-of-type {\n",
       "        vertical-align: middle;\n",
       "    }\n",
       "\n",
       "    .dataframe tbody tr th {\n",
       "        vertical-align: top;\n",
       "    }\n",
       "\n",
       "    .dataframe thead th {\n",
       "        text-align: right;\n",
       "    }\n",
       "</style>\n",
       "<table border=\"1\" class=\"dataframe\">\n",
       "  <thead>\n",
       "    <tr style=\"text-align: right;\">\n",
       "      <th></th>\n",
       "      <th>deviceid</th>\n",
       "      <th>hour</th>\n",
       "      <th>deviceid_prev_day_count</th>\n",
       "    </tr>\n",
       "  </thead>\n",
       "  <tbody>\n",
       "    <tr>\n",
       "      <th>0</th>\n",
       "      <td>0</td>\n",
       "      <td>19</td>\n",
       "      <td>9</td>\n",
       "    </tr>\n",
       "    <tr>\n",
       "      <th>1</th>\n",
       "      <td>1</td>\n",
       "      <td>17</td>\n",
       "      <td>19</td>\n",
       "    </tr>\n",
       "    <tr>\n",
       "      <th>2</th>\n",
       "      <td>2</td>\n",
       "      <td>5</td>\n",
       "      <td>14</td>\n",
       "    </tr>\n",
       "    <tr>\n",
       "      <th>3</th>\n",
       "      <td>2</td>\n",
       "      <td>6</td>\n",
       "      <td>21</td>\n",
       "    </tr>\n",
       "    <tr>\n",
       "      <th>4</th>\n",
       "      <td>2</td>\n",
       "      <td>17</td>\n",
       "      <td>11</td>\n",
       "    </tr>\n",
       "    <tr>\n",
       "      <th>...</th>\n",
       "      <td>...</td>\n",
       "      <td>...</td>\n",
       "      <td>...</td>\n",
       "    </tr>\n",
       "    <tr>\n",
       "      <th>386610</th>\n",
       "      <td>114579</td>\n",
       "      <td>16</td>\n",
       "      <td>1</td>\n",
       "    </tr>\n",
       "    <tr>\n",
       "      <th>386611</th>\n",
       "      <td>114580</td>\n",
       "      <td>14</td>\n",
       "      <td>2</td>\n",
       "    </tr>\n",
       "    <tr>\n",
       "      <th>386612</th>\n",
       "      <td>114581</td>\n",
       "      <td>20</td>\n",
       "      <td>1</td>\n",
       "    </tr>\n",
       "    <tr>\n",
       "      <th>386613</th>\n",
       "      <td>114582</td>\n",
       "      <td>7</td>\n",
       "      <td>2</td>\n",
       "    </tr>\n",
       "    <tr>\n",
       "      <th>386614</th>\n",
       "      <td>114583</td>\n",
       "      <td>20</td>\n",
       "      <td>1</td>\n",
       "    </tr>\n",
       "  </tbody>\n",
       "</table>\n",
       "<p>386615 rows × 3 columns</p>\n",
       "</div>"
      ],
      "text/plain": [
       "        deviceid  hour  deviceid_prev_day_count\n",
       "0              0    19                        9\n",
       "1              1    17                       19\n",
       "2              2     5                       14\n",
       "3              2     6                       21\n",
       "4              2    17                       11\n",
       "...          ...   ...                      ...\n",
       "386610    114579    16                        1\n",
       "386611    114580    14                        2\n",
       "386612    114581    20                        1\n",
       "386613    114582     7                        2\n",
       "386614    114583    20                        1\n",
       "\n",
       "[386615 rows x 3 columns]"
      ]
     },
     "execution_count": 93,
     "metadata": {},
     "output_type": "execute_result"
    }
   ],
   "source": [
    "tmp"
   ]
  },
  {
   "cell_type": "code",
   "execution_count": 55,
   "metadata": {
    "ExecuteTime": {
     "end_time": "2020-01-01T13:31:05.315313Z",
     "start_time": "2020-01-01T13:31:03.483650Z"
    }
   },
   "outputs": [],
   "source": [
    "# 构建历史特征\n",
    "history_feature8 = data[data['day']==8]\n",
    "history_feature9 = data[data['day']==9]\n",
    "history_feature10 = data[data['day']==10]\n",
    "history_feature11 = data[data['day']==11]"
   ]
  },
  {
   "cell_type": "code",
   "execution_count": 117,
   "metadata": {},
   "outputs": [
    {
     "name": "stdout",
     "output_type": "stream",
     "text": [
      "data size of day 8:3674871\n",
      "data size of day 9:3743690\n",
      "data size of day 10:3958141\n",
      "data size of day 11:3653560\n"
     ]
    }
   ],
   "source": [
    "# 每一天特征几乎相同\n",
    "print('data size of day {}:{}'.format(8, len(history_feature8)))\n",
    "print('data size of day {}:{}'.format(9, len(history_feature9)))\n",
    "print('data size of day {}:{}'.format(10, len(history_feature10)))\n",
    "print('data size of day {}:{}'.format(11, len(history_feature11)))"
   ]
  },
  {
   "cell_type": "raw",
   "metadata": {},
   "source": [
    "以天为纬度，每天大概有2/3的老用户，1/3应用户"
   ]
  },
  {
   "cell_type": "code",
   "execution_count": 27,
   "metadata": {
    "ExecuteTime": {
     "end_time": "2020-01-01T02:23:39.910079Z",
     "start_time": "2020-01-01T02:23:35.663815Z"
    }
   },
   "outputs": [
    {
     "name": "stdout",
     "output_type": "stream",
     "text": [
      "61277\n",
      "64284\n",
      "66286\n",
      "56861\n",
      "0.6501773380623483\n",
      "0.6388528497721992\n",
      "0.7410879161463921\n"
     ]
    }
   ],
   "source": [
    "print(len(set(history_feature8['guid'])))\n",
    "print(len(set(history_feature9['guid'])))\n",
    "print(len(set(history_feature10['guid'])))\n",
    "print(len(set(history_feature11['guid'])))\n",
    "print(len(set(history_feature8['guid'])&set(history_feature9['guid']))/len(set(history_feature9['guid'])))\n",
    "print(len(set(history_feature9['guid'])&set(history_feature10['guid']))/len(set(history_feature10['guid'])))\n",
    "print(len(set(history_feature10['guid'])&set(history_feature11['guid']))/len(set(history_feature11['guid'])))"
   ]
  },
  {
   "cell_type": "code",
   "execution_count": 31,
   "metadata": {
    "ExecuteTime": {
     "end_time": "2020-01-01T02:25:39.804788Z",
     "start_time": "2020-01-01T02:25:29.605539Z"
    }
   },
   "outputs": [
    {
     "name": "stdout",
     "output_type": "stream",
     "text": [
      "640066\n",
      "631547\n",
      "658787\n",
      "626907\n",
      "0.5474525253069051\n",
      "0.5321021817370409\n",
      "0.5567141537740048\n"
     ]
    }
   ],
   "source": [
    "# 每天点击新闻中，超过一半是前一天出现的\n",
    "print(len(set(history_feature8['newsid'])))\n",
    "print(len(set(history_feature9['newsid'])))\n",
    "print(len(set(history_feature10['newsid'])))\n",
    "print(len(set(history_feature11['newsid'])))\n",
    "print(len(set(history_feature8['newsid'])&set(history_feature9['newsid']))/len(set(history_feature9['newsid'])))\n",
    "print(len(set(history_feature9['newsid'])&set(history_feature10['newsid']))/len(set(history_feature10['newsid'])))\n",
    "print(len(set(history_feature10['newsid'])&set(history_feature11['newsid']))/len(set(history_feature11['newsid'])))"
   ]
  },
  {
   "cell_type": "code",
   "execution_count": 32,
   "metadata": {
    "ExecuteTime": {
     "end_time": "2020-01-01T02:26:41.502173Z",
     "start_time": "2020-01-01T02:26:41.497168Z"
    },
    "code_folding": []
   },
   "outputs": [],
   "source": [
    "# deviceid guid timestamp ts 时间特征\n",
    "def get_history_visit_time(data1,data2):\n",
    "    data1 = data1.sort_values(['ts','timestamp'])\n",
    "    data1['timestamp_ts'] = data1['timestamp'] - data1['ts']\n",
    "    data1_tmp = data1[data1['target']==1].copy()\n",
    "    del data1\n",
    "    for col in ['deviceid','guid']:\n",
    "        for ts in ['timestamp_ts']:\n",
    "            f_tmp = data1_tmp.groupby([col],as_index=False)[ts].agg({\n",
    "                '{}_{}_max'.format(col,ts):'max',\n",
    "                '{}_{}_mean'.format(col,ts):'mean',\n",
    "                '{}_{}_min'.format(col,ts):'min',\n",
    "                '{}_{}_median'.format(col,ts):'median'\n",
    "            })\n",
    "        data2 = pd.merge(data2,f_tmp,on=[col],how='left',copy=False)\n",
    "    return data2"
   ]
  },
  {
   "cell_type": "code",
   "execution_count": 33,
   "metadata": {
    "ExecuteTime": {
     "end_time": "2020-01-01T02:27:43.899834Z",
     "start_time": "2020-01-01T02:27:05.992157Z"
    }
   },
   "outputs": [],
   "source": [
    "history_feature9 = get_history_visit_time(history_feature8, history_feature9)\n",
    "history_feature10 = get_history_visit_time(history_feature9, history_feature10)\n",
    "history_feature11 = get_history_visit_time(history_feature10, history_feature11)"
   ]
  },
  {
   "cell_type": "code",
   "execution_count": 35,
   "metadata": {
    "ExecuteTime": {
     "end_time": "2020-01-01T02:30:54.930812Z",
     "start_time": "2020-01-01T02:30:54.913798Z"
    }
   },
   "outputs": [
    {
     "data": {
      "text/html": [
       "<div>\n",
       "<style scoped>\n",
       "    .dataframe tbody tr th:only-of-type {\n",
       "        vertical-align: middle;\n",
       "    }\n",
       "\n",
       "    .dataframe tbody tr th {\n",
       "        vertical-align: top;\n",
       "    }\n",
       "\n",
       "    .dataframe thead th {\n",
       "        text-align: right;\n",
       "    }\n",
       "</style>\n",
       "<table border=\"1\" class=\"dataframe\">\n",
       "  <thead>\n",
       "    <tr style=\"text-align: right;\">\n",
       "      <th></th>\n",
       "      <th>id</th>\n",
       "      <th>target</th>\n",
       "      <th>timestamp</th>\n",
       "      <th>deviceid</th>\n",
       "      <th>newsid</th>\n",
       "      <th>guid</th>\n",
       "      <th>pos</th>\n",
       "      <th>app_version</th>\n",
       "      <th>device_vendor</th>\n",
       "      <th>netmodel</th>\n",
       "      <th>...</th>\n",
       "      <th>second</th>\n",
       "      <th>flag</th>\n",
       "      <th>deviceid_timestamp_ts_max</th>\n",
       "      <th>deviceid_timestamp_ts_mean</th>\n",
       "      <th>deviceid_timestamp_ts_min</th>\n",
       "      <th>deviceid_timestamp_ts_median</th>\n",
       "      <th>guid_timestamp_ts_max</th>\n",
       "      <th>guid_timestamp_ts_mean</th>\n",
       "      <th>guid_timestamp_ts_min</th>\n",
       "      <th>guid_timestamp_ts_median</th>\n",
       "    </tr>\n",
       "  </thead>\n",
       "  <tbody>\n",
       "    <tr>\n",
       "      <th>0</th>\n",
       "      <td>1</td>\n",
       "      <td>0.0</td>\n",
       "      <td>NaN</td>\n",
       "      <td>8b2d7f2aed47ab32e9c6ae4f5ae00147</td>\n",
       "      <td>8008333091915950969</td>\n",
       "      <td>9a2c909ebc47aec49d9c160cdb4a6572</td>\n",
       "      <td>1</td>\n",
       "      <td>2.1.5</td>\n",
       "      <td>HONOR</td>\n",
       "      <td>g4</td>\n",
       "      <td>...</td>\n",
       "      <td>46</td>\n",
       "      <td>9</td>\n",
       "      <td>NaN</td>\n",
       "      <td>NaN</td>\n",
       "      <td>NaN</td>\n",
       "      <td>NaN</td>\n",
       "      <td>NaN</td>\n",
       "      <td>NaN</td>\n",
       "      <td>NaN</td>\n",
       "      <td>NaN</td>\n",
       "    </tr>\n",
       "    <tr>\n",
       "      <th>1</th>\n",
       "      <td>2</td>\n",
       "      <td>0.0</td>\n",
       "      <td>NaN</td>\n",
       "      <td>8b2d7f2aed47ab32e9c6ae4f5ae00147</td>\n",
       "      <td>8008333091915950969</td>\n",
       "      <td>9a2c909ebc47aec49d9c160cdb4a6572</td>\n",
       "      <td>1</td>\n",
       "      <td>2.1.5</td>\n",
       "      <td>HONOR</td>\n",
       "      <td>w</td>\n",
       "      <td>...</td>\n",
       "      <td>47</td>\n",
       "      <td>9</td>\n",
       "      <td>NaN</td>\n",
       "      <td>NaN</td>\n",
       "      <td>NaN</td>\n",
       "      <td>NaN</td>\n",
       "      <td>NaN</td>\n",
       "      <td>NaN</td>\n",
       "      <td>NaN</td>\n",
       "      <td>NaN</td>\n",
       "    </tr>\n",
       "    <tr>\n",
       "      <th>2</th>\n",
       "      <td>6</td>\n",
       "      <td>0.0</td>\n",
       "      <td>NaN</td>\n",
       "      <td>04813dbae7d339a61f38d648e77b2c28</td>\n",
       "      <td>3734327341629052372</td>\n",
       "      <td>3bc11f585ac7b18d7997fa83e19aa439</td>\n",
       "      <td>1</td>\n",
       "      <td>2.1.5</td>\n",
       "      <td>OPPO</td>\n",
       "      <td>o</td>\n",
       "      <td>...</td>\n",
       "      <td>7</td>\n",
       "      <td>9</td>\n",
       "      <td>NaN</td>\n",
       "      <td>NaN</td>\n",
       "      <td>NaN</td>\n",
       "      <td>NaN</td>\n",
       "      <td>NaN</td>\n",
       "      <td>NaN</td>\n",
       "      <td>NaN</td>\n",
       "      <td>NaN</td>\n",
       "    </tr>\n",
       "    <tr>\n",
       "      <th>3</th>\n",
       "      <td>7</td>\n",
       "      <td>0.0</td>\n",
       "      <td>NaN</td>\n",
       "      <td>04813dbae7d339a61f38d648e77b2c28</td>\n",
       "      <td>5518070787661276860</td>\n",
       "      <td>3bc11f585ac7b18d7997fa83e19aa439</td>\n",
       "      <td>2</td>\n",
       "      <td>2.1.5</td>\n",
       "      <td>OPPO</td>\n",
       "      <td>o</td>\n",
       "      <td>...</td>\n",
       "      <td>58</td>\n",
       "      <td>9</td>\n",
       "      <td>NaN</td>\n",
       "      <td>NaN</td>\n",
       "      <td>NaN</td>\n",
       "      <td>NaN</td>\n",
       "      <td>NaN</td>\n",
       "      <td>NaN</td>\n",
       "      <td>NaN</td>\n",
       "      <td>NaN</td>\n",
       "    </tr>\n",
       "    <tr>\n",
       "      <th>4</th>\n",
       "      <td>8</td>\n",
       "      <td>0.0</td>\n",
       "      <td>NaN</td>\n",
       "      <td>04813dbae7d339a61f38d648e77b2c28</td>\n",
       "      <td>6167225445325229993</td>\n",
       "      <td>null</td>\n",
       "      <td>0</td>\n",
       "      <td>2.1.5</td>\n",
       "      <td>OPPO</td>\n",
       "      <td>w</td>\n",
       "      <td>...</td>\n",
       "      <td>2</td>\n",
       "      <td>9</td>\n",
       "      <td>NaN</td>\n",
       "      <td>NaN</td>\n",
       "      <td>NaN</td>\n",
       "      <td>NaN</td>\n",
       "      <td>179832163.0</td>\n",
       "      <td>599228.966301</td>\n",
       "      <td>-3752356.0</td>\n",
       "      <td>8293.0</td>\n",
       "    </tr>\n",
       "  </tbody>\n",
       "</table>\n",
       "<p>5 rows × 29 columns</p>\n",
       "</div>"
      ],
      "text/plain": [
       "  id  target  timestamp                          deviceid  \\\n",
       "0  1     0.0        NaN  8b2d7f2aed47ab32e9c6ae4f5ae00147   \n",
       "1  2     0.0        NaN  8b2d7f2aed47ab32e9c6ae4f5ae00147   \n",
       "2  6     0.0        NaN  04813dbae7d339a61f38d648e77b2c28   \n",
       "3  7     0.0        NaN  04813dbae7d339a61f38d648e77b2c28   \n",
       "4  8     0.0        NaN  04813dbae7d339a61f38d648e77b2c28   \n",
       "\n",
       "                newsid                              guid  pos app_version  \\\n",
       "0  8008333091915950969  9a2c909ebc47aec49d9c160cdb4a6572    1       2.1.5   \n",
       "1  8008333091915950969  9a2c909ebc47aec49d9c160cdb4a6572    1       2.1.5   \n",
       "2  3734327341629052372  3bc11f585ac7b18d7997fa83e19aa439    1       2.1.5   \n",
       "3  5518070787661276860  3bc11f585ac7b18d7997fa83e19aa439    2       2.1.5   \n",
       "4  6167225445325229993                              null    0       2.1.5   \n",
       "\n",
       "  device_vendor netmodel  ... second  flag  deviceid_timestamp_ts_max  \\\n",
       "0         HONOR       g4  ...     46     9                        NaN   \n",
       "1         HONOR        w  ...     47     9                        NaN   \n",
       "2          OPPO        o  ...      7     9                        NaN   \n",
       "3          OPPO        o  ...     58     9                        NaN   \n",
       "4          OPPO        w  ...      2     9                        NaN   \n",
       "\n",
       "  deviceid_timestamp_ts_mean  deviceid_timestamp_ts_min  \\\n",
       "0                        NaN                        NaN   \n",
       "1                        NaN                        NaN   \n",
       "2                        NaN                        NaN   \n",
       "3                        NaN                        NaN   \n",
       "4                        NaN                        NaN   \n",
       "\n",
       "  deviceid_timestamp_ts_median  guid_timestamp_ts_max  guid_timestamp_ts_mean  \\\n",
       "0                          NaN                    NaN                     NaN   \n",
       "1                          NaN                    NaN                     NaN   \n",
       "2                          NaN                    NaN                     NaN   \n",
       "3                          NaN                    NaN                     NaN   \n",
       "4                          NaN            179832163.0           599228.966301   \n",
       "\n",
       "   guid_timestamp_ts_min  guid_timestamp_ts_median  \n",
       "0                    NaN                       NaN  \n",
       "1                    NaN                       NaN  \n",
       "2                    NaN                       NaN  \n",
       "3                    NaN                       NaN  \n",
       "4             -3752356.0                    8293.0  \n",
       "\n",
       "[5 rows x 29 columns]"
      ]
     },
     "execution_count": 35,
     "metadata": {},
     "output_type": "execute_result"
    }
   ],
   "source": [
    "history_feature9.head()"
   ]
  },
  {
   "cell_type": "code",
   "execution_count": 37,
   "metadata": {
    "ExecuteTime": {
     "end_time": "2020-01-01T02:34:34.024218Z",
     "start_time": "2020-01-01T02:34:14.292005Z"
    }
   },
   "outputs": [
    {
     "data": {
      "text/plain": [
       "8532"
      ]
     },
     "execution_count": 37,
     "metadata": {},
     "output_type": "execute_result"
    }
   ],
   "source": [
    "data = pd.concat([history_feature9,history_feature10],axis=0,sort=False,ignore_index=True)\n",
    "data = pd.concat([data,history_feature11],axis=0,sort=False,ignore_index=True)\n",
    "del history_feature9,history_feature10,history_feature11\n",
    "gc.collect()"
   ]
  },
  {
   "cell_type": "code",
   "execution_count": 57,
   "metadata": {
    "ExecuteTime": {
     "end_time": "2020-01-01T02:41:22.963235Z",
     "start_time": "2020-01-01T02:41:13.058636Z"
    }
   },
   "outputs": [],
   "source": [
    "data = data.sort_values('ts')\n",
    "data['ts_next'] = data.groupby(['deviceid'])['ts'].shift(-1)\n",
    "data['ts_next_ts'] = data['ts_next'] - data['ts']"
   ]
  },
  {
   "cell_type": "code",
   "execution_count": 58,
   "metadata": {
    "ExecuteTime": {
     "end_time": "2020-01-01T02:41:40.009729Z",
     "start_time": "2020-01-01T02:41:27.037527Z"
    }
   },
   "outputs": [
    {
     "name": "stdout",
     "output_type": "stream",
     "text": [
      "['deviceid']\n",
      "['guid']\n",
      "['newsid']\n"
     ]
    }
   ],
   "source": [
    "# 前一天的leak\n",
    "for col in [['deviceid'],['guid'],['newsid']]:\n",
    "    print(col)\n",
    "    data['{}_days_count'.format('_'.join(col))] = data.groupby(['day'] + col)['id'].transform('count')"
   ]
  },
  {
   "cell_type": "code",
   "execution_count": 63,
   "metadata": {
    "ExecuteTime": {
     "end_time": "2020-01-01T02:44:58.719758Z",
     "start_time": "2020-01-01T02:44:50.147422Z"
    }
   },
   "outputs": [
    {
     "name": "stdout",
     "output_type": "stream",
     "text": [
      "train and predict\n"
     ]
    }
   ],
   "source": [
    "print('train and predict')\n",
    "X_train = data[data['flag'].isin([9])]\n",
    "X_valid = data[data['flag'].isin([10])]\n",
    "X_test = data[data['flag'].isin([11])]"
   ]
  },
  {
   "cell_type": "code",
   "execution_count": 51,
   "metadata": {
    "ExecuteTime": {
     "end_time": "2020-01-01T02:40:00.080781Z",
     "start_time": "2020-01-01T02:40:00.077778Z"
    }
   },
   "outputs": [],
   "source": [
    "lgb_param = {\n",
    "    'learning_rate': 0.1,\n",
    "    'boosting_type': 'gbdt',\n",
    "    'objective': 'binary',\n",
    "    'metric': 'auc',\n",
    "    'max_depth': -1,\n",
    "    'seed':42,\n",
    "    'boost_from_average':'false',\n",
    "    }"
   ]
  },
  {
   "cell_type": "code",
   "execution_count": 52,
   "metadata": {
    "ExecuteTime": {
     "end_time": "2020-01-01T02:40:09.243853Z",
     "start_time": "2020-01-01T02:40:09.240850Z"
    }
   },
   "outputs": [],
   "source": [
    "feature = [\n",
    "       'pos','netmodel',  'hour', 'minute',\n",
    "       'deviceid_timestamp_ts_max', 'deviceid_timestamp_ts_mean',\n",
    "       'deviceid_timestamp_ts_min', 'deviceid_timestamp_ts_median',\n",
    "       'guid_timestamp_ts_max', 'guid_timestamp_ts_mean',\n",
    "       'guid_timestamp_ts_min', 'guid_timestamp_ts_median',\n",
    "       'deviceid_days_count', 'guid_days_count','newsid_days_count',\n",
    "        'ts_next_ts'\n",
    "           ]"
   ]
  },
  {
   "cell_type": "code",
   "execution_count": 53,
   "metadata": {
    "ExecuteTime": {
     "end_time": "2020-01-01T02:40:16.258706Z",
     "start_time": "2020-01-01T02:40:16.255704Z"
    }
   },
   "outputs": [],
   "source": [
    "target = 'target'"
   ]
  },
  {
   "cell_type": "code",
   "execution_count": 61,
   "metadata": {
    "ExecuteTime": {
     "end_time": "2020-01-01T02:44:23.764415Z",
     "start_time": "2020-01-01T02:44:21.949085Z"
    }
   },
   "outputs": [],
   "source": [
    "data['netmodel'] = data['netmodel'].map({'o':1, 'w':2, 'g4':4, 'g3':3, 'g2':2})"
   ]
  },
  {
   "cell_type": "code",
   "execution_count": 64,
   "metadata": {
    "ExecuteTime": {
     "end_time": "2020-01-01T02:48:15.254420Z",
     "start_time": "2020-01-01T02:45:04.028637Z"
    }
   },
   "outputs": [
    {
     "name": "stdout",
     "output_type": "stream",
     "text": [
      "Training until validation scores don't improve for 50 rounds\n",
      "[10]\ttraining's auc: 0.903714\tvalid_1's auc: 0.898323\n",
      "[20]\ttraining's auc: 0.90742\tvalid_1's auc: 0.902218\n",
      "[30]\ttraining's auc: 0.912422\tvalid_1's auc: 0.907078\n",
      "[40]\ttraining's auc: 0.915565\tvalid_1's auc: 0.910117\n",
      "[50]\ttraining's auc: 0.918159\tvalid_1's auc: 0.911839\n",
      "[60]\ttraining's auc: 0.919773\tvalid_1's auc: 0.913268\n",
      "[70]\ttraining's auc: 0.921015\tvalid_1's auc: 0.914002\n",
      "[80]\ttraining's auc: 0.92184\tvalid_1's auc: 0.914434\n",
      "[90]\ttraining's auc: 0.922651\tvalid_1's auc: 0.914666\n",
      "[100]\ttraining's auc: 0.923296\tvalid_1's auc: 0.914864\n",
      "[110]\ttraining's auc: 0.923897\tvalid_1's auc: 0.914991\n",
      "[120]\ttraining's auc: 0.924411\tvalid_1's auc: 0.915047\n",
      "[130]\ttraining's auc: 0.924925\tvalid_1's auc: 0.915128\n",
      "[140]\ttraining's auc: 0.925329\tvalid_1's auc: 0.915197\n",
      "[150]\ttraining's auc: 0.92577\tvalid_1's auc: 0.915162\n",
      "[160]\ttraining's auc: 0.926137\tvalid_1's auc: 0.91517\n",
      "[170]\ttraining's auc: 0.926506\tvalid_1's auc: 0.915262\n",
      "[180]\ttraining's auc: 0.926895\tvalid_1's auc: 0.915267\n",
      "[190]\ttraining's auc: 0.927196\tvalid_1's auc: 0.915248\n",
      "[200]\ttraining's auc: 0.927418\tvalid_1's auc: 0.915222\n",
      "[210]\ttraining's auc: 0.927671\tvalid_1's auc: 0.915235\n",
      "[220]\ttraining's auc: 0.927894\tvalid_1's auc: 0.915218\n",
      "[230]\ttraining's auc: 0.928114\tvalid_1's auc: 0.91517\n",
      "Early stopping, best iteration is:\n",
      "[185]\ttraining's auc: 0.927043\tvalid_1's auc: 0.9153\n"
     ]
    }
   ],
   "source": [
    "lgb_train = lgb.Dataset(X_train[feature].values, X_train[target].values)\n",
    "lgb_valid = lgb.Dataset(X_valid[feature].values, X_valid[target].values, reference=lgb_train)\n",
    "lgb_model = lgb.train(lgb_param, lgb_train, num_boost_round=10000, valid_sets=[lgb_train,lgb_valid],\n",
    "                      early_stopping_rounds=50,verbose_eval=10)"
   ]
  },
  {
   "cell_type": "code",
   "execution_count": 67,
   "metadata": {
    "ExecuteTime": {
     "end_time": "2020-01-01T02:52:10.819544Z",
     "start_time": "2020-01-01T02:52:00.378516Z"
    }
   },
   "outputs": [
    {
     "name": "stdout",
     "output_type": "stream",
     "text": [
      "0.6057699062735438\n"
     ]
    }
   ],
   "source": [
    "p_test = lgb_model.predict(X_valid[feature].values,num_iteration=lgb_model.best_iteration)\n",
    "xx_score = X_valid[[target]].copy()\n",
    "xx_score['predict'] = p_test\n",
    "xx_score = xx_score.sort_values('predict',ascending=False)\n",
    "xx_score = xx_score.reset_index()\n",
    "xx_score.loc[xx_score.index<=int(xx_score.shape[0]*0.103),'score'] = 1\n",
    "xx_score['score'] = xx_score['score'].fillna(0)\n",
    "print(f1_score(xx_score['target'],xx_score['score']))"
   ]
  },
  {
   "cell_type": "code",
   "execution_count": 69,
   "metadata": {
    "ExecuteTime": {
     "end_time": "2020-01-01T02:59:39.279421Z",
     "start_time": "2020-01-01T02:56:19.353045Z"
    },
    "scrolled": true
   },
   "outputs": [
    {
     "name": "stdout",
     "output_type": "stream",
     "text": [
      "[10]\ttraining's auc: 0.901509\n",
      "[20]\ttraining's auc: 0.905507\n",
      "[30]\ttraining's auc: 0.909716\n",
      "[40]\ttraining's auc: 0.912916\n",
      "[50]\ttraining's auc: 0.915402\n",
      "[60]\ttraining's auc: 0.916933\n",
      "[70]\ttraining's auc: 0.918138\n",
      "[80]\ttraining's auc: 0.918973\n",
      "[90]\ttraining's auc: 0.919631\n",
      "[100]\ttraining's auc: 0.920158\n",
      "[110]\ttraining's auc: 0.920575\n",
      "[120]\ttraining's auc: 0.920958\n",
      "[130]\ttraining's auc: 0.921352\n",
      "[140]\ttraining's auc: 0.921586\n",
      "[150]\ttraining's auc: 0.921916\n",
      "[160]\ttraining's auc: 0.922259\n",
      "[170]\ttraining's auc: 0.922526\n",
      "[180]\ttraining's auc: 0.922746\n"
     ]
    }
   ],
   "source": [
    "X_train_2 = data[data['flag'].isin([9,10])]\n",
    "\n",
    "\n",
    "lgb_train_2 = lgb.Dataset(X_train_2[feature].values, X_train_2[target].values)\n",
    "lgb_model_2 = lgb.train(lgb_param, lgb_train_2, num_boost_round=lgb_model.best_iteration, valid_sets=[lgb_train_2],verbose_eval=10)\n",
    "\n",
    "p_predict = lgb_model_2.predict(X_test[feature].values)\n",
    "\n",
    "submit_score = X_test[['id']].copy()\n",
    "submit_score['predict'] = p_predict\n",
    "submit_score = submit_score.sort_values('predict',ascending=False)\n",
    "submit_score = submit_score.reset_index()\n",
    "submit_score.loc[submit_score.index<=int(submit_score.shape[0]*0.103),'target'] = 1\n",
    "submit_score['target'] = submit_score['target'].fillna(0)\n",
    "\n",
    "submit_score = submit_score.sort_values('id')\n",
    "submit_score['target'] = submit_score['target'].astype(int)\n",
    "\n",
    "sample = pd.read_csv('./dataset/sample.csv')\n",
    "sample.columns = ['id','non_target']\n",
    "submit_score = pd.merge(sample,submit_score,on=['id'],how='left')\n",
    "\n",
    "submit_score[['id','target']].to_csv('./baseline.csv',index=False)"
   ]
  }
 ],
 "metadata": {
  "kernelspec": {
   "display_name": "Python 3",
   "language": "python",
   "name": "python3"
  },
  "language_info": {
   "codemirror_mode": {
    "name": "ipython",
    "version": 3
   },
   "file_extension": ".py",
   "mimetype": "text/x-python",
   "name": "python",
   "nbconvert_exporter": "python",
   "pygments_lexer": "ipython3",
   "version": "3.7.3"
  }
 },
 "nbformat": 4,
 "nbformat_minor": 2
}
